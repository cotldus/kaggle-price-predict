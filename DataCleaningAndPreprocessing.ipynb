{
 "cells": [
  {
   "cell_type": "markdown",
   "metadata": {},
   "source": [
    "### Exploratory Analysis "
   ]
  },
  {
   "cell_type": "code",
   "execution_count": 54,
   "metadata": {},
   "outputs": [
    {
     "name": "stdout",
     "output_type": "stream",
     "text": [
      "Requirement already satisfied: pandas in c:\\users\\razer\\anaconda3\\lib\\site-packages (1.3.0)\n",
      "Requirement already satisfied: numpy>=1.17.3 in c:\\users\\razer\\anaconda3\\lib\\site-packages (from pandas) (1.20.2)\n",
      "Requirement already satisfied: pytz>=2017.3 in c:\\users\\razer\\anaconda3\\lib\\site-packages (from pandas) (2021.1)\n",
      "Requirement already satisfied: python-dateutil>=2.7.3 in c:\\users\\razer\\anaconda3\\lib\\site-packages (from pandas) (2.8.1)\n",
      "Requirement already satisfied: six>=1.5 in c:\\users\\razer\\anaconda3\\lib\\site-packages (from python-dateutil>=2.7.3->pandas) (1.16.0)\n"
     ]
    }
   ],
   "source": [
    "!pip install -U pandas"
   ]
  },
  {
   "cell_type": "code",
   "execution_count": 55,
   "metadata": {},
   "outputs": [
    {
     "name": "stdout",
     "output_type": "stream",
     "text": [
      "Requirement already satisfied: seaborn in c:\\users\\razer\\anaconda3\\lib\\site-packages (0.11.1)\n",
      "Requirement already satisfied: matplotlib>=2.2 in c:\\users\\razer\\anaconda3\\lib\\site-packages (from seaborn) (3.3.4)\n",
      "Requirement already satisfied: numpy>=1.15 in c:\\users\\razer\\anaconda3\\lib\\site-packages (from seaborn) (1.20.2)\n",
      "Requirement already satisfied: pandas>=0.23 in c:\\users\\razer\\anaconda3\\lib\\site-packages (from seaborn) (1.3.0)\n",
      "Requirement already satisfied: scipy>=1.0 in c:\\users\\razer\\anaconda3\\lib\\site-packages (from seaborn) (1.6.2)\n",
      "Requirement already satisfied: kiwisolver>=1.0.1 in c:\\users\\razer\\anaconda3\\lib\\site-packages (from matplotlib>=2.2->seaborn) (1.3.1)\n",
      "Requirement already satisfied: pillow>=6.2.0 in c:\\users\\razer\\anaconda3\\lib\\site-packages (from matplotlib>=2.2->seaborn) (8.3.1)\n",
      "Requirement already satisfied: pyparsing!=2.0.4,!=2.1.2,!=2.1.6,>=2.0.3 in c:\\users\\razer\\anaconda3\\lib\\site-packages (from matplotlib>=2.2->seaborn) (2.4.7)\n",
      "Requirement already satisfied: python-dateutil>=2.1 in c:\\users\\razer\\anaconda3\\lib\\site-packages (from matplotlib>=2.2->seaborn) (2.8.1)\n",
      "Requirement already satisfied: cycler>=0.10 in c:\\users\\razer\\anaconda3\\lib\\site-packages (from matplotlib>=2.2->seaborn) (0.10.0)\n",
      "Requirement already satisfied: six in c:\\users\\razer\\anaconda3\\lib\\site-packages (from cycler>=0.10->matplotlib>=2.2->seaborn) (1.16.0)\n",
      "Requirement already satisfied: pytz>=2017.3 in c:\\users\\razer\\anaconda3\\lib\\site-packages (from pandas>=0.23->seaborn) (2021.1)\n"
     ]
    }
   ],
   "source": [
    "!pip install -U seaborn"
   ]
  },
  {
   "cell_type": "code",
   "execution_count": 56,
   "metadata": {},
   "outputs": [],
   "source": [
    "import pandas as pd\n",
    "import numpy as np"
   ]
  },
  {
   "cell_type": "markdown",
   "metadata": {},
   "source": [
    "https://www.kaggle.com/iabhishekofficial/mobile-price-classification\n",
    "\n",
    "\n",
    "Bob has started his own mobile company. He wants to give tough fight to big companies like Apple,Samsung etc.\n",
    "\n",
    "He does not know how to estimate price of mobiles his company creates. In this competitive mobile phone market you cannot simply assume things. To solve this problem he collects sales data of mobile phones of various companies.\n",
    "\n",
    "Bob wants to find out some relation between features of a mobile phone(eg:- RAM,Internal Memory etc) and its selling price\n",
    "In this problem you do not have to predict actual price but a price range indicating how high the price is\n",
    "\n",
    "\n",
    "\n",
    "-  id - ID\n",
    "-  battery_power - Total energy a battery can store in one time measured in mAh\n",
    "-  blue - Has bluetooth or not\n",
    "-  clock_speed - speed at which microprocessor executes instructions\n",
    "-  dual_sim - Has dual sim support or not\n",
    "-  fc - Front Camera mega pixels\n",
    "-  four_gHas 4G or not\n",
    "-  int_memory - Internal Memory in Gigabytes\n",
    "-  m_dep - Mobile Depth in cm\n",
    "-  mobile_wt - Weight of mobile phone\n",
    "-  n_cores - Number of cores of processor\n",
    "-  pc - Primary Camera mega pixels\n",
    "-  px_height - Pixel Resolution Height\n",
    "-  px_width - Pixel Resolution Width\n",
    "-  ram - Random Access Memory in Megabytes\n",
    "-  sc_h - Screen Height of mobile in cm\n",
    "-  sc_w - Screen Width of mobile in cm\n",
    "-  talk_time - longest time that a single battery charge will last when you are\n",
    "-  three_g - Has 3G or not\n",
    "-  touch_screen - Has touch screen or not\n",
    "-  wifi - Has wifi or not\n",
    "-  price_range - This is the target variable with value of 0(low cost), 1(medium cost), 2(high cost) and 3(very high cost)."
   ]
  },
  {
   "cell_type": "code",
   "execution_count": 57,
   "metadata": {},
   "outputs": [],
   "source": [
    "data = pd.read_csv('./mobile_price_classification.csv')"
   ]
  },
  {
   "cell_type": "code",
   "execution_count": 58,
   "metadata": {},
   "outputs": [
    {
     "data": {
      "text/html": [
       "<div>\n",
       "<style scoped>\n",
       "    .dataframe tbody tr th:only-of-type {\n",
       "        vertical-align: middle;\n",
       "    }\n",
       "\n",
       "    .dataframe tbody tr th {\n",
       "        vertical-align: top;\n",
       "    }\n",
       "\n",
       "    .dataframe thead th {\n",
       "        text-align: right;\n",
       "    }\n",
       "</style>\n",
       "<table border=\"1\" class=\"dataframe\">\n",
       "  <thead>\n",
       "    <tr style=\"text-align: right;\">\n",
       "      <th></th>\n",
       "      <th>id</th>\n",
       "      <th>battery_power</th>\n",
       "      <th>blue</th>\n",
       "      <th>clock_speed</th>\n",
       "      <th>dual_sim</th>\n",
       "      <th>fc</th>\n",
       "      <th>four_g</th>\n",
       "      <th>int_memory</th>\n",
       "      <th>m_dep</th>\n",
       "      <th>mobile_wt</th>\n",
       "      <th>...</th>\n",
       "      <th>px_height</th>\n",
       "      <th>px_width</th>\n",
       "      <th>ram</th>\n",
       "      <th>sc_h</th>\n",
       "      <th>sc_w</th>\n",
       "      <th>talk_time</th>\n",
       "      <th>three_g</th>\n",
       "      <th>touch_screen</th>\n",
       "      <th>wifi</th>\n",
       "      <th>price_range</th>\n",
       "    </tr>\n",
       "  </thead>\n",
       "  <tbody>\n",
       "    <tr>\n",
       "      <th>0</th>\n",
       "      <td>1</td>\n",
       "      <td>842</td>\n",
       "      <td>0</td>\n",
       "      <td>2.2</td>\n",
       "      <td>0</td>\n",
       "      <td>1.0</td>\n",
       "      <td>0</td>\n",
       "      <td>7</td>\n",
       "      <td>0.6</td>\n",
       "      <td>188.0</td>\n",
       "      <td>...</td>\n",
       "      <td>20</td>\n",
       "      <td>756</td>\n",
       "      <td>2549.0</td>\n",
       "      <td>9</td>\n",
       "      <td>7</td>\n",
       "      <td>19</td>\n",
       "      <td>0</td>\n",
       "      <td>0</td>\n",
       "      <td>1</td>\n",
       "      <td>1</td>\n",
       "    </tr>\n",
       "    <tr>\n",
       "      <th>1</th>\n",
       "      <td>2</td>\n",
       "      <td>1021</td>\n",
       "      <td>1</td>\n",
       "      <td>0.5</td>\n",
       "      <td>1</td>\n",
       "      <td>NaN</td>\n",
       "      <td>1</td>\n",
       "      <td>53</td>\n",
       "      <td>0.7</td>\n",
       "      <td>136.0</td>\n",
       "      <td>...</td>\n",
       "      <td>905</td>\n",
       "      <td>1988</td>\n",
       "      <td>NaN</td>\n",
       "      <td>17</td>\n",
       "      <td>3</td>\n",
       "      <td>7</td>\n",
       "      <td>1</td>\n",
       "      <td>1</td>\n",
       "      <td>0</td>\n",
       "      <td>2</td>\n",
       "    </tr>\n",
       "    <tr>\n",
       "      <th>2</th>\n",
       "      <td>3</td>\n",
       "      <td>563</td>\n",
       "      <td>1</td>\n",
       "      <td>0.5</td>\n",
       "      <td>1</td>\n",
       "      <td>2.0</td>\n",
       "      <td>1</td>\n",
       "      <td>41</td>\n",
       "      <td>0.9</td>\n",
       "      <td>NaN</td>\n",
       "      <td>...</td>\n",
       "      <td>1263</td>\n",
       "      <td>1716</td>\n",
       "      <td>2603.0</td>\n",
       "      <td>11</td>\n",
       "      <td>2</td>\n",
       "      <td>9</td>\n",
       "      <td>1</td>\n",
       "      <td>1</td>\n",
       "      <td>0</td>\n",
       "      <td>2</td>\n",
       "    </tr>\n",
       "    <tr>\n",
       "      <th>3</th>\n",
       "      <td>4</td>\n",
       "      <td>615</td>\n",
       "      <td>1</td>\n",
       "      <td>2.5</td>\n",
       "      <td>0</td>\n",
       "      <td>NaN</td>\n",
       "      <td>0</td>\n",
       "      <td>10</td>\n",
       "      <td>0.8</td>\n",
       "      <td>131.0</td>\n",
       "      <td>...</td>\n",
       "      <td>1216</td>\n",
       "      <td>1786</td>\n",
       "      <td>2769.0</td>\n",
       "      <td>16</td>\n",
       "      <td>8</td>\n",
       "      <td>11</td>\n",
       "      <td>1</td>\n",
       "      <td>0</td>\n",
       "      <td>0</td>\n",
       "      <td>2</td>\n",
       "    </tr>\n",
       "    <tr>\n",
       "      <th>4</th>\n",
       "      <td>5</td>\n",
       "      <td>1821</td>\n",
       "      <td>1</td>\n",
       "      <td>1.2</td>\n",
       "      <td>0</td>\n",
       "      <td>13.0</td>\n",
       "      <td>1</td>\n",
       "      <td>44</td>\n",
       "      <td>NaN</td>\n",
       "      <td>141.0</td>\n",
       "      <td>...</td>\n",
       "      <td>1208</td>\n",
       "      <td>1212</td>\n",
       "      <td>1411.0</td>\n",
       "      <td>8</td>\n",
       "      <td>2</td>\n",
       "      <td>15</td>\n",
       "      <td>1</td>\n",
       "      <td>1</td>\n",
       "      <td>0</td>\n",
       "      <td>1</td>\n",
       "    </tr>\n",
       "  </tbody>\n",
       "</table>\n",
       "<p>5 rows × 22 columns</p>\n",
       "</div>"
      ],
      "text/plain": [
       "   id  battery_power  blue  clock_speed  dual_sim    fc  four_g  int_memory  \\\n",
       "0   1            842     0          2.2         0   1.0       0           7   \n",
       "1   2           1021     1          0.5         1   NaN       1          53   \n",
       "2   3            563     1          0.5         1   2.0       1          41   \n",
       "3   4            615     1          2.5         0   NaN       0          10   \n",
       "4   5           1821     1          1.2         0  13.0       1          44   \n",
       "\n",
       "   m_dep  mobile_wt  ...  px_height  px_width     ram  sc_h  sc_w  talk_time  \\\n",
       "0    0.6      188.0  ...         20       756  2549.0     9     7         19   \n",
       "1    0.7      136.0  ...        905      1988     NaN    17     3          7   \n",
       "2    0.9        NaN  ...       1263      1716  2603.0    11     2          9   \n",
       "3    0.8      131.0  ...       1216      1786  2769.0    16     8         11   \n",
       "4    NaN      141.0  ...       1208      1212  1411.0     8     2         15   \n",
       "\n",
       "   three_g  touch_screen  wifi  price_range  \n",
       "0        0             0     1            1  \n",
       "1        1             1     0            2  \n",
       "2        1             1     0            2  \n",
       "3        1             0     0            2  \n",
       "4        1             1     0            1  \n",
       "\n",
       "[5 rows x 22 columns]"
      ]
     },
     "execution_count": 58,
     "metadata": {},
     "output_type": "execute_result"
    }
   ],
   "source": [
    "data.head()"
   ]
  },
  {
   "cell_type": "code",
   "execution_count": 59,
   "metadata": {},
   "outputs": [
    {
     "data": {
      "text/plain": [
       "id                 int64\n",
       "battery_power      int64\n",
       "blue               int64\n",
       "clock_speed      float64\n",
       "dual_sim           int64\n",
       "fc               float64\n",
       "four_g             int64\n",
       "int_memory         int64\n",
       "m_dep            float64\n",
       "mobile_wt        float64\n",
       "n_cores            int64\n",
       "pc                 int64\n",
       "px_height          int64\n",
       "px_width           int64\n",
       "ram              float64\n",
       "sc_h               int64\n",
       "sc_w               int64\n",
       "talk_time          int64\n",
       "three_g            int64\n",
       "touch_screen       int64\n",
       "wifi               int64\n",
       "price_range        int64\n",
       "dtype: object"
      ]
     },
     "execution_count": 59,
     "metadata": {},
     "output_type": "execute_result"
    }
   ],
   "source": [
    "data.dtypes"
   ]
  },
  {
   "cell_type": "code",
   "execution_count": 60,
   "metadata": {},
   "outputs": [
    {
     "data": {
      "text/plain": [
       "(2002, 22)"
      ]
     },
     "execution_count": 60,
     "metadata": {},
     "output_type": "execute_result"
    }
   ],
   "source": [
    "data.shape"
   ]
  },
  {
   "cell_type": "code",
   "execution_count": 61,
   "metadata": {},
   "outputs": [
    {
     "data": {
      "text/plain": [
       "Index(['id', 'battery_power', 'blue', 'clock_speed', 'dual_sim', 'fc',\n",
       "       'four_g', 'int_memory', 'm_dep', 'mobile_wt', 'n_cores', 'pc',\n",
       "       'px_height', 'px_width', 'ram', 'sc_h', 'sc_w', 'talk_time', 'three_g',\n",
       "       'touch_screen', 'wifi', 'price_range'],\n",
       "      dtype='object')"
      ]
     },
     "execution_count": 61,
     "metadata": {},
     "output_type": "execute_result"
    }
   ],
   "source": [
    "data.columns"
   ]
  },
  {
   "cell_type": "code",
   "execution_count": 62,
   "metadata": {},
   "outputs": [
    {
     "data": {
      "text/plain": [
       "(2002, 21)"
      ]
     },
     "execution_count": 62,
     "metadata": {},
     "output_type": "execute_result"
    }
   ],
   "source": [
    "data = data.drop('id', axis=1)\n",
    "\n",
    "data.shape"
   ]
  },
  {
   "cell_type": "code",
   "execution_count": 63,
   "metadata": {},
   "outputs": [
    {
     "data": {
      "text/html": [
       "<div>\n",
       "<style scoped>\n",
       "    .dataframe tbody tr th:only-of-type {\n",
       "        vertical-align: middle;\n",
       "    }\n",
       "\n",
       "    .dataframe tbody tr th {\n",
       "        vertical-align: top;\n",
       "    }\n",
       "\n",
       "    .dataframe thead th {\n",
       "        text-align: right;\n",
       "    }\n",
       "</style>\n",
       "<table border=\"1\" class=\"dataframe\">\n",
       "  <thead>\n",
       "    <tr style=\"text-align: right;\">\n",
       "      <th></th>\n",
       "      <th>battery_power</th>\n",
       "      <th>blue</th>\n",
       "      <th>clock_speed</th>\n",
       "      <th>dual_sim</th>\n",
       "      <th>fc</th>\n",
       "      <th>four_g</th>\n",
       "      <th>int_memory</th>\n",
       "      <th>m_dep</th>\n",
       "      <th>mobile_wt</th>\n",
       "      <th>n_cores</th>\n",
       "      <th>...</th>\n",
       "      <th>px_height</th>\n",
       "      <th>px_width</th>\n",
       "      <th>ram</th>\n",
       "      <th>sc_h</th>\n",
       "      <th>sc_w</th>\n",
       "      <th>talk_time</th>\n",
       "      <th>three_g</th>\n",
       "      <th>touch_screen</th>\n",
       "      <th>wifi</th>\n",
       "      <th>price_range</th>\n",
       "    </tr>\n",
       "  </thead>\n",
       "  <tbody>\n",
       "    <tr>\n",
       "      <th>count</th>\n",
       "      <td>2002.000000</td>\n",
       "      <td>2002.000000</td>\n",
       "      <td>2002.000000</td>\n",
       "      <td>2002.000000</td>\n",
       "      <td>1995.000000</td>\n",
       "      <td>2002.000000</td>\n",
       "      <td>2002.000000</td>\n",
       "      <td>1997.000000</td>\n",
       "      <td>1996.000000</td>\n",
       "      <td>2002.000000</td>\n",
       "      <td>...</td>\n",
       "      <td>2002.000000</td>\n",
       "      <td>2002.000000</td>\n",
       "      <td>2000.000000</td>\n",
       "      <td>2002.000000</td>\n",
       "      <td>2002.000000</td>\n",
       "      <td>2002.000000</td>\n",
       "      <td>2002.000000</td>\n",
       "      <td>2002.000000</td>\n",
       "      <td>2002.000000</td>\n",
       "      <td>2002.000000</td>\n",
       "    </tr>\n",
       "    <tr>\n",
       "      <th>mean</th>\n",
       "      <td>1238.485514</td>\n",
       "      <td>0.494505</td>\n",
       "      <td>1.522428</td>\n",
       "      <td>0.509491</td>\n",
       "      <td>4.319799</td>\n",
       "      <td>0.521479</td>\n",
       "      <td>32.037463</td>\n",
       "      <td>0.502053</td>\n",
       "      <td>141.289579</td>\n",
       "      <td>4.520979</td>\n",
       "      <td>...</td>\n",
       "      <td>644.652847</td>\n",
       "      <td>1251.457043</td>\n",
       "      <td>2128.750000</td>\n",
       "      <td>12.306194</td>\n",
       "      <td>5.767732</td>\n",
       "      <td>11.008492</td>\n",
       "      <td>0.761738</td>\n",
       "      <td>0.502498</td>\n",
       "      <td>0.506494</td>\n",
       "      <td>1.499500</td>\n",
       "    </tr>\n",
       "    <tr>\n",
       "      <th>std</th>\n",
       "      <td>439.389628</td>\n",
       "      <td>0.500095</td>\n",
       "      <td>0.815769</td>\n",
       "      <td>0.500035</td>\n",
       "      <td>4.341836</td>\n",
       "      <td>0.499663</td>\n",
       "      <td>18.144296</td>\n",
       "      <td>0.288578</td>\n",
       "      <td>45.313271</td>\n",
       "      <td>2.287617</td>\n",
       "      <td>...</td>\n",
       "      <td>443.792863</td>\n",
       "      <td>431.988140</td>\n",
       "      <td>1096.826623</td>\n",
       "      <td>4.212218</td>\n",
       "      <td>4.354540</td>\n",
       "      <td>5.462372</td>\n",
       "      <td>0.426126</td>\n",
       "      <td>0.500119</td>\n",
       "      <td>0.500083</td>\n",
       "      <td>1.117866</td>\n",
       "    </tr>\n",
       "    <tr>\n",
       "      <th>min</th>\n",
       "      <td>501.000000</td>\n",
       "      <td>0.000000</td>\n",
       "      <td>0.500000</td>\n",
       "      <td>0.000000</td>\n",
       "      <td>0.000000</td>\n",
       "      <td>0.000000</td>\n",
       "      <td>2.000000</td>\n",
       "      <td>0.100000</td>\n",
       "      <td>80.000000</td>\n",
       "      <td>1.000000</td>\n",
       "      <td>...</td>\n",
       "      <td>0.000000</td>\n",
       "      <td>500.000000</td>\n",
       "      <td>256.000000</td>\n",
       "      <td>5.000000</td>\n",
       "      <td>0.000000</td>\n",
       "      <td>2.000000</td>\n",
       "      <td>0.000000</td>\n",
       "      <td>0.000000</td>\n",
       "      <td>0.000000</td>\n",
       "      <td>0.000000</td>\n",
       "    </tr>\n",
       "    <tr>\n",
       "      <th>25%</th>\n",
       "      <td>851.250000</td>\n",
       "      <td>0.000000</td>\n",
       "      <td>0.700000</td>\n",
       "      <td>0.000000</td>\n",
       "      <td>1.000000</td>\n",
       "      <td>0.000000</td>\n",
       "      <td>16.000000</td>\n",
       "      <td>0.200000</td>\n",
       "      <td>109.000000</td>\n",
       "      <td>3.000000</td>\n",
       "      <td>...</td>\n",
       "      <td>282.000000</td>\n",
       "      <td>875.250000</td>\n",
       "      <td>1207.500000</td>\n",
       "      <td>9.000000</td>\n",
       "      <td>2.000000</td>\n",
       "      <td>6.000000</td>\n",
       "      <td>1.000000</td>\n",
       "      <td>0.000000</td>\n",
       "      <td>0.000000</td>\n",
       "      <td>1.000000</td>\n",
       "    </tr>\n",
       "    <tr>\n",
       "      <th>50%</th>\n",
       "      <td>1226.000000</td>\n",
       "      <td>0.000000</td>\n",
       "      <td>1.500000</td>\n",
       "      <td>1.000000</td>\n",
       "      <td>3.000000</td>\n",
       "      <td>1.000000</td>\n",
       "      <td>32.000000</td>\n",
       "      <td>0.500000</td>\n",
       "      <td>141.000000</td>\n",
       "      <td>4.000000</td>\n",
       "      <td>...</td>\n",
       "      <td>564.000000</td>\n",
       "      <td>1247.000000</td>\n",
       "      <td>2145.000000</td>\n",
       "      <td>12.000000</td>\n",
       "      <td>5.000000</td>\n",
       "      <td>11.000000</td>\n",
       "      <td>1.000000</td>\n",
       "      <td>1.000000</td>\n",
       "      <td>1.000000</td>\n",
       "      <td>1.000000</td>\n",
       "    </tr>\n",
       "    <tr>\n",
       "      <th>75%</th>\n",
       "      <td>1615.000000</td>\n",
       "      <td>1.000000</td>\n",
       "      <td>2.200000</td>\n",
       "      <td>1.000000</td>\n",
       "      <td>7.000000</td>\n",
       "      <td>1.000000</td>\n",
       "      <td>48.000000</td>\n",
       "      <td>0.800000</td>\n",
       "      <td>170.000000</td>\n",
       "      <td>7.000000</td>\n",
       "      <td>...</td>\n",
       "      <td>946.750000</td>\n",
       "      <td>1632.750000</td>\n",
       "      <td>3069.000000</td>\n",
       "      <td>16.000000</td>\n",
       "      <td>9.000000</td>\n",
       "      <td>16.000000</td>\n",
       "      <td>1.000000</td>\n",
       "      <td>1.000000</td>\n",
       "      <td>1.000000</td>\n",
       "      <td>2.000000</td>\n",
       "    </tr>\n",
       "    <tr>\n",
       "      <th>max</th>\n",
       "      <td>1998.000000</td>\n",
       "      <td>1.000000</td>\n",
       "      <td>3.000000</td>\n",
       "      <td>1.000000</td>\n",
       "      <td>19.000000</td>\n",
       "      <td>1.000000</td>\n",
       "      <td>64.000000</td>\n",
       "      <td>1.000000</td>\n",
       "      <td>960.000000</td>\n",
       "      <td>8.000000</td>\n",
       "      <td>...</td>\n",
       "      <td>1960.000000</td>\n",
       "      <td>1998.000000</td>\n",
       "      <td>7286.000000</td>\n",
       "      <td>19.000000</td>\n",
       "      <td>18.000000</td>\n",
       "      <td>20.000000</td>\n",
       "      <td>1.000000</td>\n",
       "      <td>1.000000</td>\n",
       "      <td>1.000000</td>\n",
       "      <td>3.000000</td>\n",
       "    </tr>\n",
       "  </tbody>\n",
       "</table>\n",
       "<p>8 rows × 21 columns</p>\n",
       "</div>"
      ],
      "text/plain": [
       "       battery_power         blue  clock_speed     dual_sim           fc  \\\n",
       "count    2002.000000  2002.000000  2002.000000  2002.000000  1995.000000   \n",
       "mean     1238.485514     0.494505     1.522428     0.509491     4.319799   \n",
       "std       439.389628     0.500095     0.815769     0.500035     4.341836   \n",
       "min       501.000000     0.000000     0.500000     0.000000     0.000000   \n",
       "25%       851.250000     0.000000     0.700000     0.000000     1.000000   \n",
       "50%      1226.000000     0.000000     1.500000     1.000000     3.000000   \n",
       "75%      1615.000000     1.000000     2.200000     1.000000     7.000000   \n",
       "max      1998.000000     1.000000     3.000000     1.000000    19.000000   \n",
       "\n",
       "            four_g   int_memory        m_dep    mobile_wt      n_cores  ...  \\\n",
       "count  2002.000000  2002.000000  1997.000000  1996.000000  2002.000000  ...   \n",
       "mean      0.521479    32.037463     0.502053   141.289579     4.520979  ...   \n",
       "std       0.499663    18.144296     0.288578    45.313271     2.287617  ...   \n",
       "min       0.000000     2.000000     0.100000    80.000000     1.000000  ...   \n",
       "25%       0.000000    16.000000     0.200000   109.000000     3.000000  ...   \n",
       "50%       1.000000    32.000000     0.500000   141.000000     4.000000  ...   \n",
       "75%       1.000000    48.000000     0.800000   170.000000     7.000000  ...   \n",
       "max       1.000000    64.000000     1.000000   960.000000     8.000000  ...   \n",
       "\n",
       "         px_height     px_width          ram         sc_h         sc_w  \\\n",
       "count  2002.000000  2002.000000  2000.000000  2002.000000  2002.000000   \n",
       "mean    644.652847  1251.457043  2128.750000    12.306194     5.767732   \n",
       "std     443.792863   431.988140  1096.826623     4.212218     4.354540   \n",
       "min       0.000000   500.000000   256.000000     5.000000     0.000000   \n",
       "25%     282.000000   875.250000  1207.500000     9.000000     2.000000   \n",
       "50%     564.000000  1247.000000  2145.000000    12.000000     5.000000   \n",
       "75%     946.750000  1632.750000  3069.000000    16.000000     9.000000   \n",
       "max    1960.000000  1998.000000  7286.000000    19.000000    18.000000   \n",
       "\n",
       "         talk_time      three_g  touch_screen         wifi  price_range  \n",
       "count  2002.000000  2002.000000   2002.000000  2002.000000  2002.000000  \n",
       "mean     11.008492     0.761738      0.502498     0.506494     1.499500  \n",
       "std       5.462372     0.426126      0.500119     0.500083     1.117866  \n",
       "min       2.000000     0.000000      0.000000     0.000000     0.000000  \n",
       "25%       6.000000     1.000000      0.000000     0.000000     1.000000  \n",
       "50%      11.000000     1.000000      1.000000     1.000000     1.000000  \n",
       "75%      16.000000     1.000000      1.000000     1.000000     2.000000  \n",
       "max      20.000000     1.000000      1.000000     1.000000     3.000000  \n",
       "\n",
       "[8 rows x 21 columns]"
      ]
     },
     "execution_count": 63,
     "metadata": {},
     "output_type": "execute_result"
    }
   ],
   "source": [
    "data.describe()"
   ]
  },
  {
   "cell_type": "markdown",
   "metadata": {},
   "source": [
    "#### Renaming columns"
   ]
  },
  {
   "cell_type": "code",
   "execution_count": 64,
   "metadata": {},
   "outputs": [],
   "source": [
    "data = data.rename(columns = {\"blue\" : \"bluetooth\", \n",
    "                              \"fc\" : \"fc_megapixel\",\n",
    "                              \"pc\" : \"pc_megapixel\",\n",
    "                              \"m_dep\" : \"m_depth\"})"
   ]
  },
  {
   "cell_type": "code",
   "execution_count": 65,
   "metadata": {},
   "outputs": [
    {
     "data": {
      "text/html": [
       "<div>\n",
       "<style scoped>\n",
       "    .dataframe tbody tr th:only-of-type {\n",
       "        vertical-align: middle;\n",
       "    }\n",
       "\n",
       "    .dataframe tbody tr th {\n",
       "        vertical-align: top;\n",
       "    }\n",
       "\n",
       "    .dataframe thead th {\n",
       "        text-align: right;\n",
       "    }\n",
       "</style>\n",
       "<table border=\"1\" class=\"dataframe\">\n",
       "  <thead>\n",
       "    <tr style=\"text-align: right;\">\n",
       "      <th></th>\n",
       "      <th>battery_power</th>\n",
       "      <th>bluetooth</th>\n",
       "      <th>clock_speed</th>\n",
       "      <th>dual_sim</th>\n",
       "      <th>fc_megapixel</th>\n",
       "      <th>four_g</th>\n",
       "      <th>int_memory</th>\n",
       "      <th>m_depth</th>\n",
       "      <th>mobile_wt</th>\n",
       "      <th>n_cores</th>\n",
       "      <th>...</th>\n",
       "      <th>px_height</th>\n",
       "      <th>px_width</th>\n",
       "      <th>ram</th>\n",
       "      <th>sc_h</th>\n",
       "      <th>sc_w</th>\n",
       "      <th>talk_time</th>\n",
       "      <th>three_g</th>\n",
       "      <th>touch_screen</th>\n",
       "      <th>wifi</th>\n",
       "      <th>price_range</th>\n",
       "    </tr>\n",
       "  </thead>\n",
       "  <tbody>\n",
       "    <tr>\n",
       "      <th>0</th>\n",
       "      <td>842</td>\n",
       "      <td>0</td>\n",
       "      <td>2.2</td>\n",
       "      <td>0</td>\n",
       "      <td>1.0</td>\n",
       "      <td>0</td>\n",
       "      <td>7</td>\n",
       "      <td>0.6</td>\n",
       "      <td>188.0</td>\n",
       "      <td>2</td>\n",
       "      <td>...</td>\n",
       "      <td>20</td>\n",
       "      <td>756</td>\n",
       "      <td>2549.0</td>\n",
       "      <td>9</td>\n",
       "      <td>7</td>\n",
       "      <td>19</td>\n",
       "      <td>0</td>\n",
       "      <td>0</td>\n",
       "      <td>1</td>\n",
       "      <td>1</td>\n",
       "    </tr>\n",
       "    <tr>\n",
       "      <th>1</th>\n",
       "      <td>1021</td>\n",
       "      <td>1</td>\n",
       "      <td>0.5</td>\n",
       "      <td>1</td>\n",
       "      <td>NaN</td>\n",
       "      <td>1</td>\n",
       "      <td>53</td>\n",
       "      <td>0.7</td>\n",
       "      <td>136.0</td>\n",
       "      <td>3</td>\n",
       "      <td>...</td>\n",
       "      <td>905</td>\n",
       "      <td>1988</td>\n",
       "      <td>NaN</td>\n",
       "      <td>17</td>\n",
       "      <td>3</td>\n",
       "      <td>7</td>\n",
       "      <td>1</td>\n",
       "      <td>1</td>\n",
       "      <td>0</td>\n",
       "      <td>2</td>\n",
       "    </tr>\n",
       "    <tr>\n",
       "      <th>2</th>\n",
       "      <td>563</td>\n",
       "      <td>1</td>\n",
       "      <td>0.5</td>\n",
       "      <td>1</td>\n",
       "      <td>2.0</td>\n",
       "      <td>1</td>\n",
       "      <td>41</td>\n",
       "      <td>0.9</td>\n",
       "      <td>NaN</td>\n",
       "      <td>5</td>\n",
       "      <td>...</td>\n",
       "      <td>1263</td>\n",
       "      <td>1716</td>\n",
       "      <td>2603.0</td>\n",
       "      <td>11</td>\n",
       "      <td>2</td>\n",
       "      <td>9</td>\n",
       "      <td>1</td>\n",
       "      <td>1</td>\n",
       "      <td>0</td>\n",
       "      <td>2</td>\n",
       "    </tr>\n",
       "    <tr>\n",
       "      <th>3</th>\n",
       "      <td>615</td>\n",
       "      <td>1</td>\n",
       "      <td>2.5</td>\n",
       "      <td>0</td>\n",
       "      <td>NaN</td>\n",
       "      <td>0</td>\n",
       "      <td>10</td>\n",
       "      <td>0.8</td>\n",
       "      <td>131.0</td>\n",
       "      <td>6</td>\n",
       "      <td>...</td>\n",
       "      <td>1216</td>\n",
       "      <td>1786</td>\n",
       "      <td>2769.0</td>\n",
       "      <td>16</td>\n",
       "      <td>8</td>\n",
       "      <td>11</td>\n",
       "      <td>1</td>\n",
       "      <td>0</td>\n",
       "      <td>0</td>\n",
       "      <td>2</td>\n",
       "    </tr>\n",
       "    <tr>\n",
       "      <th>4</th>\n",
       "      <td>1821</td>\n",
       "      <td>1</td>\n",
       "      <td>1.2</td>\n",
       "      <td>0</td>\n",
       "      <td>13.0</td>\n",
       "      <td>1</td>\n",
       "      <td>44</td>\n",
       "      <td>NaN</td>\n",
       "      <td>141.0</td>\n",
       "      <td>2</td>\n",
       "      <td>...</td>\n",
       "      <td>1208</td>\n",
       "      <td>1212</td>\n",
       "      <td>1411.0</td>\n",
       "      <td>8</td>\n",
       "      <td>2</td>\n",
       "      <td>15</td>\n",
       "      <td>1</td>\n",
       "      <td>1</td>\n",
       "      <td>0</td>\n",
       "      <td>1</td>\n",
       "    </tr>\n",
       "  </tbody>\n",
       "</table>\n",
       "<p>5 rows × 21 columns</p>\n",
       "</div>"
      ],
      "text/plain": [
       "   battery_power  bluetooth  clock_speed  dual_sim  fc_megapixel  four_g  \\\n",
       "0            842          0          2.2         0           1.0       0   \n",
       "1           1021          1          0.5         1           NaN       1   \n",
       "2            563          1          0.5         1           2.0       1   \n",
       "3            615          1          2.5         0           NaN       0   \n",
       "4           1821          1          1.2         0          13.0       1   \n",
       "\n",
       "   int_memory  m_depth  mobile_wt  n_cores  ...  px_height  px_width     ram  \\\n",
       "0           7      0.6      188.0        2  ...         20       756  2549.0   \n",
       "1          53      0.7      136.0        3  ...        905      1988     NaN   \n",
       "2          41      0.9        NaN        5  ...       1263      1716  2603.0   \n",
       "3          10      0.8      131.0        6  ...       1216      1786  2769.0   \n",
       "4          44      NaN      141.0        2  ...       1208      1212  1411.0   \n",
       "\n",
       "   sc_h  sc_w  talk_time  three_g  touch_screen  wifi  price_range  \n",
       "0     9     7         19        0             0     1            1  \n",
       "1    17     3          7        1             1     0            2  \n",
       "2    11     2          9        1             1     0            2  \n",
       "3    16     8         11        1             0     0            2  \n",
       "4     8     2         15        1             1     0            1  \n",
       "\n",
       "[5 rows x 21 columns]"
      ]
     },
     "execution_count": 65,
     "metadata": {},
     "output_type": "execute_result"
    }
   ],
   "source": [
    "data.head()"
   ]
  },
  {
   "cell_type": "code",
   "execution_count": 66,
   "metadata": {},
   "outputs": [
    {
     "data": {
      "text/plain": [
       "(2002, 21)"
      ]
     },
     "execution_count": 66,
     "metadata": {},
     "output_type": "execute_result"
    }
   ],
   "source": [
    "data.shape"
   ]
  },
  {
   "cell_type": "markdown",
   "metadata": {},
   "source": [
    "### Handling duplicates"
   ]
  },
  {
   "cell_type": "code",
   "execution_count": 67,
   "metadata": {},
   "outputs": [
    {
     "data": {
      "text/plain": [
       "0    False\n",
       "1    False\n",
       "2    False\n",
       "3    False\n",
       "4    False\n",
       "dtype: bool"
      ]
     },
     "execution_count": 67,
     "metadata": {},
     "output_type": "execute_result"
    }
   ],
   "source": [
    "dupes = data.duplicated()\n",
    "\n",
    "dupes.head()"
   ]
  },
  {
   "cell_type": "code",
   "execution_count": 68,
   "metadata": {},
   "outputs": [
    {
     "data": {
      "text/plain": [
       "2"
      ]
     },
     "execution_count": 68,
     "metadata": {},
     "output_type": "execute_result"
    }
   ],
   "source": [
    "sum(dupes)"
   ]
  },
  {
   "cell_type": "code",
   "execution_count": 69,
   "metadata": {},
   "outputs": [
    {
     "data": {
      "text/plain": [
       "(2000, 21)"
      ]
     },
     "execution_count": 69,
     "metadata": {},
     "output_type": "execute_result"
    }
   ],
   "source": [
    "data = data.drop_duplicates()\n",
    "\n",
    "data.shape"
   ]
  },
  {
   "cell_type": "markdown",
   "metadata": {},
   "source": [
    "### Handling Missing Data"
   ]
  },
  {
   "cell_type": "code",
   "execution_count": 70,
   "metadata": {},
   "outputs": [
    {
     "data": {
      "text/plain": [
       "battery_power    0\n",
       "bluetooth        0\n",
       "clock_speed      0\n",
       "dual_sim         0\n",
       "fc_megapixel     7\n",
       "four_g           0\n",
       "int_memory       0\n",
       "m_depth          5\n",
       "mobile_wt        6\n",
       "n_cores          0\n",
       "pc_megapixel     0\n",
       "px_height        0\n",
       "px_width         0\n",
       "ram              2\n",
       "sc_h             0\n",
       "sc_w             0\n",
       "talk_time        0\n",
       "three_g          0\n",
       "touch_screen     0\n",
       "wifi             0\n",
       "price_range      0\n",
       "dtype: int64"
      ]
     },
     "execution_count": 70,
     "metadata": {},
     "output_type": "execute_result"
    }
   ],
   "source": [
    "data.isnull().sum()"
   ]
  },
  {
   "cell_type": "code",
   "execution_count": 71,
   "metadata": {},
   "outputs": [
    {
     "data": {
      "text/plain": [
       "battery_power    0\n",
       "bluetooth        0\n",
       "clock_speed      0\n",
       "dual_sim         0\n",
       "fc_megapixel     7\n",
       "four_g           0\n",
       "int_memory       0\n",
       "m_depth          5\n",
       "mobile_wt        6\n",
       "n_cores          0\n",
       "pc_megapixel     0\n",
       "px_height        0\n",
       "px_width         0\n",
       "ram              2\n",
       "sc_h             0\n",
       "sc_w             0\n",
       "talk_time        0\n",
       "three_g          0\n",
       "touch_screen     0\n",
       "wifi             0\n",
       "price_range      0\n",
       "dtype: int64"
      ]
     },
     "execution_count": 71,
     "metadata": {},
     "output_type": "execute_result"
    }
   ],
   "source": [
    "data.isna().sum()"
   ]
  },
  {
   "cell_type": "markdown",
   "metadata": {},
   "source": [
    "#### replacing nans with 0"
   ]
  },
  {
   "cell_type": "code",
   "execution_count": 72,
   "metadata": {},
   "outputs": [
    {
     "data": {
      "text/plain": [
       "battery_power    0\n",
       "bluetooth        0\n",
       "clock_speed      0\n",
       "dual_sim         0\n",
       "fc_megapixel     0\n",
       "four_g           0\n",
       "int_memory       0\n",
       "m_depth          5\n",
       "mobile_wt        6\n",
       "n_cores          0\n",
       "pc_megapixel     0\n",
       "px_height        0\n",
       "px_width         0\n",
       "ram              2\n",
       "sc_h             0\n",
       "sc_w             0\n",
       "talk_time        0\n",
       "three_g          0\n",
       "touch_screen     0\n",
       "wifi             0\n",
       "price_range      0\n",
       "dtype: int64"
      ]
     },
     "execution_count": 72,
     "metadata": {},
     "output_type": "execute_result"
    }
   ],
   "source": [
    "data['fc_megapixel'] = data['fc_megapixel'].fillna(0)\n",
    "\n",
    "data.isnull().sum()"
   ]
  },
  {
   "cell_type": "markdown",
   "metadata": {},
   "source": [
    "#### Filling Forward or Backward\n",
    "If we supply a method parameter to the fillna() method, we can fill forward or backward as we need. To fill forward, use the methods pad or fill, and to fill backward, use bfill and backfill.\n",
    "\n",
    "Not advisable since it just uses the next value it finds to fill backward"
   ]
  },
  {
   "cell_type": "code",
   "execution_count": 73,
   "metadata": {},
   "outputs": [
    {
     "data": {
      "text/plain": [
       "1562"
      ]
     },
     "execution_count": 73,
     "metadata": {},
     "output_type": "execute_result"
    }
   ],
   "source": [
    "len(data['ram'].unique())"
   ]
  },
  {
   "cell_type": "code",
   "execution_count": 74,
   "metadata": {},
   "outputs": [
    {
     "data": {
      "text/plain": [
       "1561"
      ]
     },
     "execution_count": 74,
     "metadata": {},
     "output_type": "execute_result"
    }
   ],
   "source": [
    "data['ram'] = data['ram'].fillna(method='backfill')\n",
    "\n",
    "len(data['ram'].unique())"
   ]
  },
  {
   "cell_type": "markdown",
   "metadata": {},
   "source": [
    "blank is also a value, so when you backfill, unique values drop by 1"
   ]
  },
  {
   "cell_type": "code",
   "execution_count": 75,
   "metadata": {},
   "outputs": [
    {
     "data": {
      "text/plain": [
       "battery_power    0\n",
       "bluetooth        0\n",
       "clock_speed      0\n",
       "dual_sim         0\n",
       "fc_megapixel     0\n",
       "four_g           0\n",
       "int_memory       0\n",
       "m_depth          5\n",
       "mobile_wt        6\n",
       "n_cores          0\n",
       "pc_megapixel     0\n",
       "px_height        0\n",
       "px_width         0\n",
       "ram              0\n",
       "sc_h             0\n",
       "sc_w             0\n",
       "talk_time        0\n",
       "three_g          0\n",
       "touch_screen     0\n",
       "wifi             0\n",
       "price_range      0\n",
       "dtype: int64"
      ]
     },
     "execution_count": 75,
     "metadata": {},
     "output_type": "execute_result"
    }
   ],
   "source": [
    "data.isnull().sum()"
   ]
  },
  {
   "cell_type": "markdown",
   "metadata": {},
   "source": [
    "#### Replacing nan with median of the column"
   ]
  },
  {
   "cell_type": "code",
   "execution_count": 76,
   "metadata": {},
   "outputs": [],
   "source": [
    "data['mobile_wt'] = data['mobile_wt'].fillna(data['mobile_wt'].median())"
   ]
  },
  {
   "cell_type": "code",
   "execution_count": 77,
   "metadata": {},
   "outputs": [
    {
     "data": {
      "text/plain": [
       "0    188.0\n",
       "1    136.0\n",
       "2    141.0\n",
       "3    131.0\n",
       "4    141.0\n",
       "Name: mobile_wt, dtype: float64"
      ]
     },
     "execution_count": 77,
     "metadata": {},
     "output_type": "execute_result"
    }
   ],
   "source": [
    "data['mobile_wt'].head()"
   ]
  },
  {
   "cell_type": "code",
   "execution_count": 78,
   "metadata": {},
   "outputs": [],
   "source": [
    "data = data.dropna()"
   ]
  },
  {
   "cell_type": "code",
   "execution_count": 79,
   "metadata": {},
   "outputs": [
    {
     "data": {
      "text/plain": [
       "battery_power    0\n",
       "bluetooth        0\n",
       "clock_speed      0\n",
       "dual_sim         0\n",
       "fc_megapixel     0\n",
       "four_g           0\n",
       "int_memory       0\n",
       "m_depth          0\n",
       "mobile_wt        0\n",
       "n_cores          0\n",
       "pc_megapixel     0\n",
       "px_height        0\n",
       "px_width         0\n",
       "ram              0\n",
       "sc_h             0\n",
       "sc_w             0\n",
       "talk_time        0\n",
       "three_g          0\n",
       "touch_screen     0\n",
       "wifi             0\n",
       "price_range      0\n",
       "dtype: int64"
      ]
     },
     "execution_count": 79,
     "metadata": {},
     "output_type": "execute_result"
    }
   ],
   "source": [
    "data.isnull().sum()"
   ]
  },
  {
   "cell_type": "code",
   "execution_count": 80,
   "metadata": {},
   "outputs": [
    {
     "data": {
      "text/plain": [
       "(1995, 21)"
      ]
     },
     "execution_count": 80,
     "metadata": {},
     "output_type": "execute_result"
    }
   ],
   "source": [
    "data.shape"
   ]
  },
  {
   "cell_type": "code",
   "execution_count": 81,
   "metadata": {},
   "outputs": [
    {
     "data": {
      "text/plain": [
       "Index(['battery_power', 'bluetooth', 'clock_speed', 'dual_sim', 'fc_megapixel',\n",
       "       'four_g', 'int_memory', 'm_depth', 'mobile_wt', 'n_cores',\n",
       "       'pc_megapixel', 'px_height', 'px_width', 'ram', 'sc_h', 'sc_w',\n",
       "       'talk_time', 'three_g', 'touch_screen', 'wifi', 'price_range'],\n",
       "      dtype='object')"
      ]
     },
     "execution_count": 81,
     "metadata": {},
     "output_type": "execute_result"
    }
   ],
   "source": [
    "data.columns"
   ]
  },
  {
   "cell_type": "code",
   "execution_count": 82,
   "metadata": {},
   "outputs": [
    {
     "name": "stderr",
     "output_type": "stream",
     "text": [
      "'ls' is not recognized as an internal or external command,\n",
      "operable program or batch file.\n"
     ]
    }
   ],
   "source": [
    "data.to_csv('mobile_data_cleaned.csv', index = False)\n",
    "\n",
    "!ls "
   ]
  },
  {
   "cell_type": "code",
   "execution_count": 83,
   "metadata": {},
   "outputs": [
    {
     "data": {
      "text/html": [
       "<div>\n",
       "<style scoped>\n",
       "    .dataframe tbody tr th:only-of-type {\n",
       "        vertical-align: middle;\n",
       "    }\n",
       "\n",
       "    .dataframe tbody tr th {\n",
       "        vertical-align: top;\n",
       "    }\n",
       "\n",
       "    .dataframe thead th {\n",
       "        text-align: right;\n",
       "    }\n",
       "</style>\n",
       "<table border=\"1\" class=\"dataframe\">\n",
       "  <thead>\n",
       "    <tr style=\"text-align: right;\">\n",
       "      <th></th>\n",
       "      <th>battery_power</th>\n",
       "      <th>clock_speed</th>\n",
       "      <th>fc_megapixel</th>\n",
       "      <th>int_memory</th>\n",
       "      <th>m_depth</th>\n",
       "      <th>mobile_wt</th>\n",
       "      <th>n_cores</th>\n",
       "      <th>pc_megapixel</th>\n",
       "      <th>px_height</th>\n",
       "      <th>px_width</th>\n",
       "      <th>ram</th>\n",
       "      <th>sc_h</th>\n",
       "      <th>sc_w</th>\n",
       "      <th>talk_time</th>\n",
       "    </tr>\n",
       "  </thead>\n",
       "  <tbody>\n",
       "    <tr>\n",
       "      <th>0</th>\n",
       "      <td>842</td>\n",
       "      <td>2.2</td>\n",
       "      <td>1.0</td>\n",
       "      <td>7</td>\n",
       "      <td>0.6</td>\n",
       "      <td>188.0</td>\n",
       "      <td>2</td>\n",
       "      <td>2</td>\n",
       "      <td>20</td>\n",
       "      <td>756</td>\n",
       "      <td>2549.0</td>\n",
       "      <td>9</td>\n",
       "      <td>7</td>\n",
       "      <td>19</td>\n",
       "    </tr>\n",
       "    <tr>\n",
       "      <th>1</th>\n",
       "      <td>1021</td>\n",
       "      <td>0.5</td>\n",
       "      <td>0.0</td>\n",
       "      <td>53</td>\n",
       "      <td>0.7</td>\n",
       "      <td>136.0</td>\n",
       "      <td>3</td>\n",
       "      <td>6</td>\n",
       "      <td>905</td>\n",
       "      <td>1988</td>\n",
       "      <td>2603.0</td>\n",
       "      <td>17</td>\n",
       "      <td>3</td>\n",
       "      <td>7</td>\n",
       "    </tr>\n",
       "    <tr>\n",
       "      <th>2</th>\n",
       "      <td>563</td>\n",
       "      <td>0.5</td>\n",
       "      <td>2.0</td>\n",
       "      <td>41</td>\n",
       "      <td>0.9</td>\n",
       "      <td>141.0</td>\n",
       "      <td>5</td>\n",
       "      <td>6</td>\n",
       "      <td>1263</td>\n",
       "      <td>1716</td>\n",
       "      <td>2603.0</td>\n",
       "      <td>11</td>\n",
       "      <td>2</td>\n",
       "      <td>9</td>\n",
       "    </tr>\n",
       "    <tr>\n",
       "      <th>3</th>\n",
       "      <td>615</td>\n",
       "      <td>2.5</td>\n",
       "      <td>0.0</td>\n",
       "      <td>10</td>\n",
       "      <td>0.8</td>\n",
       "      <td>131.0</td>\n",
       "      <td>6</td>\n",
       "      <td>9</td>\n",
       "      <td>1216</td>\n",
       "      <td>1786</td>\n",
       "      <td>2769.0</td>\n",
       "      <td>16</td>\n",
       "      <td>8</td>\n",
       "      <td>11</td>\n",
       "    </tr>\n",
       "    <tr>\n",
       "      <th>5</th>\n",
       "      <td>1859</td>\n",
       "      <td>0.5</td>\n",
       "      <td>3.0</td>\n",
       "      <td>22</td>\n",
       "      <td>0.7</td>\n",
       "      <td>164.0</td>\n",
       "      <td>1</td>\n",
       "      <td>7</td>\n",
       "      <td>1004</td>\n",
       "      <td>1654</td>\n",
       "      <td>1067.0</td>\n",
       "      <td>17</td>\n",
       "      <td>1</td>\n",
       "      <td>10</td>\n",
       "    </tr>\n",
       "  </tbody>\n",
       "</table>\n",
       "</div>"
      ],
      "text/plain": [
       "   battery_power  clock_speed  fc_megapixel  int_memory  m_depth  mobile_wt  \\\n",
       "0            842          2.2           1.0           7      0.6      188.0   \n",
       "1           1021          0.5           0.0          53      0.7      136.0   \n",
       "2            563          0.5           2.0          41      0.9      141.0   \n",
       "3            615          2.5           0.0          10      0.8      131.0   \n",
       "5           1859          0.5           3.0          22      0.7      164.0   \n",
       "\n",
       "   n_cores  pc_megapixel  px_height  px_width     ram  sc_h  sc_w  talk_time  \n",
       "0        2             2         20       756  2549.0     9     7         19  \n",
       "1        3             6        905      1988  2603.0    17     3          7  \n",
       "2        5             6       1263      1716  2603.0    11     2          9  \n",
       "3        6             9       1216      1786  2769.0    16     8         11  \n",
       "5        1             7       1004      1654  1067.0    17     1         10  "
      ]
     },
     "execution_count": 83,
     "metadata": {},
     "output_type": "execute_result"
    }
   ],
   "source": [
    "numeric_data = data.drop(['bluetooth', 'dual_sim', 'four_g', 'three_g', \n",
    "                          'touch_screen', 'wifi', 'price_range'], axis=1)\n",
    "\n",
    "numeric_data.head()"
   ]
  },
  {
   "cell_type": "code",
   "execution_count": 84,
   "metadata": {},
   "outputs": [
    {
     "data": {
      "text/html": [
       "<div>\n",
       "<style scoped>\n",
       "    .dataframe tbody tr th:only-of-type {\n",
       "        vertical-align: middle;\n",
       "    }\n",
       "\n",
       "    .dataframe tbody tr th {\n",
       "        vertical-align: top;\n",
       "    }\n",
       "\n",
       "    .dataframe thead th {\n",
       "        text-align: right;\n",
       "    }\n",
       "</style>\n",
       "<table border=\"1\" class=\"dataframe\">\n",
       "  <thead>\n",
       "    <tr style=\"text-align: right;\">\n",
       "      <th></th>\n",
       "      <th>bluetooth</th>\n",
       "      <th>dual_sim</th>\n",
       "      <th>four_g</th>\n",
       "      <th>three_g</th>\n",
       "      <th>touch_screen</th>\n",
       "      <th>wifi</th>\n",
       "      <th>price_range</th>\n",
       "    </tr>\n",
       "  </thead>\n",
       "  <tbody>\n",
       "    <tr>\n",
       "      <th>0</th>\n",
       "      <td>0</td>\n",
       "      <td>0</td>\n",
       "      <td>0</td>\n",
       "      <td>0</td>\n",
       "      <td>0</td>\n",
       "      <td>1</td>\n",
       "      <td>1</td>\n",
       "    </tr>\n",
       "    <tr>\n",
       "      <th>1</th>\n",
       "      <td>1</td>\n",
       "      <td>1</td>\n",
       "      <td>1</td>\n",
       "      <td>1</td>\n",
       "      <td>1</td>\n",
       "      <td>0</td>\n",
       "      <td>2</td>\n",
       "    </tr>\n",
       "    <tr>\n",
       "      <th>2</th>\n",
       "      <td>1</td>\n",
       "      <td>1</td>\n",
       "      <td>1</td>\n",
       "      <td>1</td>\n",
       "      <td>1</td>\n",
       "      <td>0</td>\n",
       "      <td>2</td>\n",
       "    </tr>\n",
       "    <tr>\n",
       "      <th>3</th>\n",
       "      <td>1</td>\n",
       "      <td>0</td>\n",
       "      <td>0</td>\n",
       "      <td>1</td>\n",
       "      <td>0</td>\n",
       "      <td>0</td>\n",
       "      <td>2</td>\n",
       "    </tr>\n",
       "    <tr>\n",
       "      <th>5</th>\n",
       "      <td>0</td>\n",
       "      <td>1</td>\n",
       "      <td>0</td>\n",
       "      <td>1</td>\n",
       "      <td>0</td>\n",
       "      <td>0</td>\n",
       "      <td>1</td>\n",
       "    </tr>\n",
       "  </tbody>\n",
       "</table>\n",
       "</div>"
      ],
      "text/plain": [
       "   bluetooth  dual_sim  four_g  three_g  touch_screen  wifi  price_range\n",
       "0          0         0       0        0             0     1            1\n",
       "1          1         1       1        1             1     0            2\n",
       "2          1         1       1        1             1     0            2\n",
       "3          1         0       0        1             0     0            2\n",
       "5          0         1       0        1             0     0            1"
      ]
     },
     "execution_count": 84,
     "metadata": {},
     "output_type": "execute_result"
    }
   ],
   "source": [
    "categorical_data = data[['bluetooth', 'dual_sim', 'four_g', 'three_g', \n",
    "                         'touch_screen', 'wifi', 'price_range']]\n",
    "\n",
    "categorical_data.head()"
   ]
  },
  {
   "cell_type": "markdown",
   "metadata": {},
   "source": [
    "### Handling outliers"
   ]
  },
  {
   "cell_type": "code",
   "execution_count": 85,
   "metadata": {},
   "outputs": [],
   "source": [
    "from matplotlib import pyplot as plt\n",
    "import seaborn as sns"
   ]
  },
  {
   "cell_type": "code",
   "execution_count": 86,
   "metadata": {},
   "outputs": [
    {
     "name": "stderr",
     "output_type": "stream",
     "text": [
      "C:\\Users\\Razer\\anaconda3\\lib\\site-packages\\seaborn\\_decorators.py:36: FutureWarning: Pass the following variable as a keyword arg: x. From version 0.12, the only valid positional argument will be `data`, and passing other arguments without an explicit keyword will result in an error or misinterpretation.\n",
      "  warnings.warn(\n",
      "C:\\Users\\Razer\\anaconda3\\lib\\site-packages\\seaborn\\_core.py:1319: UserWarning: Vertical orientation ignored with only `x` specified.\n",
      "  warnings.warn(single_var_warning.format(\"Vertical\", \"x\"))\n"
     ]
    },
    {
     "data": {
      "text/plain": [
       "<AxesSubplot:xlabel='ram'>"
      ]
     },
     "execution_count": 86,
     "metadata": {},
     "output_type": "execute_result"
    },
    {
     "data": {
      "image/png": "[encoded data removed]",
      "text/plain": [
       "<Figure size 720x576 with 1 Axes>"
      ]
     },
     "metadata": {
      "needs_background": "light"
     },
     "output_type": "display_data"
    }
   ],
   "source": [
    "fig, ax = plt.subplots(figsize = (10, 8))\n",
    "\n",
    "sns.boxplot(numeric_data['ram'],\n",
    "            orient = 'v')"
   ]
  },
  {
   "cell_type": "code",
   "execution_count": 87,
   "metadata": {},
   "outputs": [
    {
     "name": "stderr",
     "output_type": "stream",
     "text": [
      "C:\\Users\\Razer\\anaconda3\\lib\\site-packages\\seaborn\\_decorators.py:36: FutureWarning: Pass the following variable as a keyword arg: x. From version 0.12, the only valid positional argument will be `data`, and passing other arguments without an explicit keyword will result in an error or misinterpretation.\n",
      "  warnings.warn(\n",
      "C:\\Users\\Razer\\anaconda3\\lib\\site-packages\\seaborn\\_core.py:1319: UserWarning: Vertical orientation ignored with only `x` specified.\n",
      "  warnings.warn(single_var_warning.format(\"Vertical\", \"x\"))\n"
     ]
    },
    {
     "data": {
      "text/plain": [
       "<AxesSubplot:xlabel='mobile_wt'>"
      ]
     },
     "execution_count": 87,
     "metadata": {},
     "output_type": "execute_result"
    },
    {
     "data": {
      "image/png": "[encoded data removed]",
      "text/plain": [
       "<Figure size 720x576 with 1 Axes>"
      ]
     },
     "metadata": {
      "needs_background": "light"
     },
     "output_type": "display_data"
    }
   ],
   "source": [
    "fig, ax = plt.subplots(figsize = (10, 8))\n",
    "\n",
    "sns.boxplot(numeric_data['mobile_wt'],\n",
    "            orient = 'v')"
   ]
  },
  {
   "cell_type": "code",
   "execution_count": 88,
   "metadata": {},
   "outputs": [
    {
     "data": {
      "text/plain": [
       "[Text(0, 0, 'battery_power'),\n",
       " Text(1, 0, 'clock_speed'),\n",
       " Text(2, 0, 'fc_megapixel'),\n",
       " Text(3, 0, 'int_memory'),\n",
       " Text(4, 0, 'm_depth'),\n",
       " Text(5, 0, 'mobile_wt'),\n",
       " Text(6, 0, 'n_cores'),\n",
       " Text(7, 0, 'pc_megapixel'),\n",
       " Text(8, 0, 'px_height'),\n",
       " Text(9, 0, 'px_width'),\n",
       " Text(10, 0, 'ram'),\n",
       " Text(11, 0, 'sc_h'),\n",
       " Text(12, 0, 'sc_w'),\n",
       " Text(13, 0, 'talk_time')]"
      ]
     },
     "execution_count": 88,
     "metadata": {},
     "output_type": "execute_result"
    },
    {
     "data": {
      "image/png": "[encoded data removed]",
      "text/plain": [
       "<Figure size 720x576 with 1 Axes>"
      ]
     },
     "metadata": {
      "needs_background": "light"
     },
     "output_type": "display_data"
    }
   ],
   "source": [
    "fig, ax = plt.subplots(figsize = (10, 8))\n",
    "\n",
    "bp = sns.boxplot(data = numeric_data)\n",
    "\n",
    "bp.set_xticklabels(bp.get_xticklabels(), rotation=90)"
   ]
  },
  {
   "cell_type": "markdown",
   "metadata": {},
   "source": [
    "## Use z-score to standardize the boxplot for multiple categories"
   ]
  },
  {
   "cell_type": "code",
   "execution_count": 89,
   "metadata": {},
   "outputs": [],
   "source": [
    "from sklearn.preprocessing import StandardScaler\n",
    "\n",
    "scaler = StandardScaler()\n",
    "\n",
    "scaled_array = scaler.fit_transform(numeric_data)"
   ]
  },
  {
   "cell_type": "code",
   "execution_count": 90,
   "metadata": {},
   "outputs": [
    {
     "data": {
      "text/html": [
       "<div>\n",
       "<style scoped>\n",
       "    .dataframe tbody tr th:only-of-type {\n",
       "        vertical-align: middle;\n",
       "    }\n",
       "\n",
       "    .dataframe tbody tr th {\n",
       "        vertical-align: top;\n",
       "    }\n",
       "\n",
       "    .dataframe thead th {\n",
       "        text-align: right;\n",
       "    }\n",
       "</style>\n",
       "<table border=\"1\" class=\"dataframe\">\n",
       "  <thead>\n",
       "    <tr style=\"text-align: right;\">\n",
       "      <th></th>\n",
       "      <th>battery_power</th>\n",
       "      <th>clock_speed</th>\n",
       "      <th>fc_megapixel</th>\n",
       "      <th>int_memory</th>\n",
       "      <th>m_depth</th>\n",
       "      <th>mobile_wt</th>\n",
       "      <th>n_cores</th>\n",
       "      <th>pc_megapixel</th>\n",
       "      <th>px_height</th>\n",
       "      <th>px_width</th>\n",
       "      <th>ram</th>\n",
       "      <th>sc_h</th>\n",
       "      <th>sc_w</th>\n",
       "      <th>talk_time</th>\n",
       "    </tr>\n",
       "  </thead>\n",
       "  <tbody>\n",
       "    <tr>\n",
       "      <th>0</th>\n",
       "      <td>-0.902710</td>\n",
       "      <td>0.828590</td>\n",
       "      <td>-0.760901</td>\n",
       "      <td>-1.379076</td>\n",
       "      <td>0.339647</td>\n",
       "      <td>1.032457</td>\n",
       "      <td>-1.100614</td>\n",
       "      <td>-1.305274</td>\n",
       "      <td>-1.410473</td>\n",
       "      <td>-1.145740</td>\n",
       "      <td>0.383289</td>\n",
       "      <td>-0.787860</td>\n",
       "      <td>0.281262</td>\n",
       "      <td>1.461538</td>\n",
       "    </tr>\n",
       "    <tr>\n",
       "      <th>1</th>\n",
       "      <td>-0.495016</td>\n",
       "      <td>-1.254710</td>\n",
       "      <td>-0.991355</td>\n",
       "      <td>1.155222</td>\n",
       "      <td>0.686421</td>\n",
       "      <td>-0.115603</td>\n",
       "      <td>-0.663393</td>\n",
       "      <td>-0.645778</td>\n",
       "      <td>0.588764</td>\n",
       "      <td>1.703940</td>\n",
       "      <td>0.432536</td>\n",
       "      <td>1.112147</td>\n",
       "      <td>-0.636722</td>\n",
       "      <td>-0.734484</td>\n",
       "    </tr>\n",
       "    <tr>\n",
       "      <th>2</th>\n",
       "      <td>-1.538165</td>\n",
       "      <td>-1.254710</td>\n",
       "      <td>-0.530448</td>\n",
       "      <td>0.494101</td>\n",
       "      <td>1.379968</td>\n",
       "      <td>-0.005212</td>\n",
       "      <td>0.211050</td>\n",
       "      <td>-0.645778</td>\n",
       "      <td>1.397495</td>\n",
       "      <td>1.074790</td>\n",
       "      <td>0.432536</td>\n",
       "      <td>-0.312858</td>\n",
       "      <td>-0.866218</td>\n",
       "      <td>-0.368480</td>\n",
       "    </tr>\n",
       "    <tr>\n",
       "      <th>3</th>\n",
       "      <td>-1.419729</td>\n",
       "      <td>1.196232</td>\n",
       "      <td>-0.991355</td>\n",
       "      <td>-1.213795</td>\n",
       "      <td>1.033195</td>\n",
       "      <td>-0.225993</td>\n",
       "      <td>0.648271</td>\n",
       "      <td>-0.151155</td>\n",
       "      <td>1.291321</td>\n",
       "      <td>1.236704</td>\n",
       "      <td>0.583926</td>\n",
       "      <td>0.874646</td>\n",
       "      <td>0.510758</td>\n",
       "      <td>-0.002477</td>\n",
       "    </tr>\n",
       "    <tr>\n",
       "      <th>4</th>\n",
       "      <td>1.413628</td>\n",
       "      <td>-1.254710</td>\n",
       "      <td>-0.299994</td>\n",
       "      <td>-0.552674</td>\n",
       "      <td>0.686421</td>\n",
       "      <td>0.502583</td>\n",
       "      <td>-1.537835</td>\n",
       "      <td>-0.480903</td>\n",
       "      <td>0.812408</td>\n",
       "      <td>0.931381</td>\n",
       "      <td>-0.968275</td>\n",
       "      <td>1.112147</td>\n",
       "      <td>-1.095714</td>\n",
       "      <td>-0.185479</td>\n",
       "    </tr>\n",
       "  </tbody>\n",
       "</table>\n",
       "</div>"
      ],
      "text/plain": [
       "   battery_power  clock_speed  fc_megapixel  int_memory   m_depth  mobile_wt  \\\n",
       "0      -0.902710     0.828590     -0.760901   -1.379076  0.339647   1.032457   \n",
       "1      -0.495016    -1.254710     -0.991355    1.155222  0.686421  -0.115603   \n",
       "2      -1.538165    -1.254710     -0.530448    0.494101  1.379968  -0.005212   \n",
       "3      -1.419729     1.196232     -0.991355   -1.213795  1.033195  -0.225993   \n",
       "4       1.413628    -1.254710     -0.299994   -0.552674  0.686421   0.502583   \n",
       "\n",
       "    n_cores  pc_megapixel  px_height  px_width       ram      sc_h      sc_w  \\\n",
       "0 -1.100614     -1.305274  -1.410473 -1.145740  0.383289 -0.787860  0.281262   \n",
       "1 -0.663393     -0.645778   0.588764  1.703940  0.432536  1.112147 -0.636722   \n",
       "2  0.211050     -0.645778   1.397495  1.074790  0.432536 -0.312858 -0.866218   \n",
       "3  0.648271     -0.151155   1.291321  1.236704  0.583926  0.874646  0.510758   \n",
       "4 -1.537835     -0.480903   0.812408  0.931381 -0.968275  1.112147 -1.095714   \n",
       "\n",
       "   talk_time  \n",
       "0   1.461538  \n",
       "1  -0.734484  \n",
       "2  -0.368480  \n",
       "3  -0.002477  \n",
       "4  -0.185479  "
      ]
     },
     "execution_count": 90,
     "metadata": {},
     "output_type": "execute_result"
    }
   ],
   "source": [
    "scaled_data = pd.DataFrame(scaled_array, columns = numeric_data.columns)\n",
    "\n",
    "scaled_data.head()"
   ]
  },
  {
   "cell_type": "code",
   "execution_count": 91,
   "metadata": {},
   "outputs": [
    {
     "data": {
      "text/html": [
       "<div>\n",
       "<style scoped>\n",
       "    .dataframe tbody tr th:only-of-type {\n",
       "        vertical-align: middle;\n",
       "    }\n",
       "\n",
       "    .dataframe tbody tr th {\n",
       "        vertical-align: top;\n",
       "    }\n",
       "\n",
       "    .dataframe thead th {\n",
       "        text-align: right;\n",
       "    }\n",
       "</style>\n",
       "<table border=\"1\" class=\"dataframe\">\n",
       "  <thead>\n",
       "    <tr style=\"text-align: right;\">\n",
       "      <th></th>\n",
       "      <th>battery_power</th>\n",
       "      <th>clock_speed</th>\n",
       "      <th>fc_megapixel</th>\n",
       "      <th>int_memory</th>\n",
       "      <th>m_depth</th>\n",
       "      <th>mobile_wt</th>\n",
       "      <th>n_cores</th>\n",
       "      <th>pc_megapixel</th>\n",
       "      <th>px_height</th>\n",
       "      <th>px_width</th>\n",
       "      <th>ram</th>\n",
       "      <th>sc_h</th>\n",
       "      <th>sc_w</th>\n",
       "      <th>talk_time</th>\n",
       "    </tr>\n",
       "  </thead>\n",
       "  <tbody>\n",
       "    <tr>\n",
       "      <th>count</th>\n",
       "      <td>1.995000e+03</td>\n",
       "      <td>1.995000e+03</td>\n",
       "      <td>1.995000e+03</td>\n",
       "      <td>1.995000e+03</td>\n",
       "      <td>1.995000e+03</td>\n",
       "      <td>1.995000e+03</td>\n",
       "      <td>1.995000e+03</td>\n",
       "      <td>1.995000e+03</td>\n",
       "      <td>1.995000e+03</td>\n",
       "      <td>1.995000e+03</td>\n",
       "      <td>1.995000e+03</td>\n",
       "      <td>1.995000e+03</td>\n",
       "      <td>1.995000e+03</td>\n",
       "      <td>1.995000e+03</td>\n",
       "    </tr>\n",
       "    <tr>\n",
       "      <th>mean</th>\n",
       "      <td>-1.090745e-16</td>\n",
       "      <td>1.582694e-16</td>\n",
       "      <td>-4.273941e-17</td>\n",
       "      <td>-3.283366e-18</td>\n",
       "      <td>-2.971725e-17</td>\n",
       "      <td>-5.448162e-17</td>\n",
       "      <td>1.631666e-16</td>\n",
       "      <td>4.986265e-17</td>\n",
       "      <td>-1.111336e-16</td>\n",
       "      <td>-2.190395e-16</td>\n",
       "      <td>-4.452022e-18</td>\n",
       "      <td>7.423747e-17</td>\n",
       "      <td>7.949642e-17</td>\n",
       "      <td>-5.453727e-17</td>\n",
       "    </tr>\n",
       "    <tr>\n",
       "      <th>std</th>\n",
       "      <td>1.000251e+00</td>\n",
       "      <td>1.000251e+00</td>\n",
       "      <td>1.000251e+00</td>\n",
       "      <td>1.000251e+00</td>\n",
       "      <td>1.000251e+00</td>\n",
       "      <td>1.000251e+00</td>\n",
       "      <td>1.000251e+00</td>\n",
       "      <td>1.000251e+00</td>\n",
       "      <td>1.000251e+00</td>\n",
       "      <td>1.000251e+00</td>\n",
       "      <td>1.000251e+00</td>\n",
       "      <td>1.000251e+00</td>\n",
       "      <td>1.000251e+00</td>\n",
       "      <td>1.000251e+00</td>\n",
       "    </tr>\n",
       "    <tr>\n",
       "      <th>min</th>\n",
       "      <td>-1.679377e+00</td>\n",
       "      <td>-1.254710e+00</td>\n",
       "      <td>-9.913549e-01</td>\n",
       "      <td>-1.654543e+00</td>\n",
       "      <td>-1.394222e+00</td>\n",
       "      <td>-1.351975e+00</td>\n",
       "      <td>-1.537835e+00</td>\n",
       "      <td>-1.635022e+00</td>\n",
       "      <td>-1.455654e+00</td>\n",
       "      <td>-1.737881e+00</td>\n",
       "      <td>-1.707896e+00</td>\n",
       "      <td>-1.737864e+00</td>\n",
       "      <td>-1.325210e+00</td>\n",
       "      <td>-1.649493e+00</td>\n",
       "    </tr>\n",
       "    <tr>\n",
       "      <th>25%</th>\n",
       "      <td>-8.799334e-01</td>\n",
       "      <td>-1.009616e+00</td>\n",
       "      <td>-7.609013e-01</td>\n",
       "      <td>-8.832348e-01</td>\n",
       "      <td>-1.047448e+00</td>\n",
       "      <td>-7.117106e-01</td>\n",
       "      <td>-6.633928e-01</td>\n",
       "      <td>-8.106517e-01</td>\n",
       "      <td>-8.174790e-01</td>\n",
       "      <td>-8.727999e-01</td>\n",
       "      <td>-8.405968e-01</td>\n",
       "      <td>-7.878601e-01</td>\n",
       "      <td>-8.662179e-01</td>\n",
       "      <td>-9.174857e-01</td>\n",
       "    </tr>\n",
       "    <tr>\n",
       "      <th>50%</th>\n",
       "      <td>-3.038194e-02</td>\n",
       "      <td>-2.923931e-02</td>\n",
       "      <td>-2.999940e-01</td>\n",
       "      <td>-1.739793e-03</td>\n",
       "      <td>-7.126678e-03</td>\n",
       "      <td>-5.212416e-03</td>\n",
       "      <td>-2.261716e-01</td>\n",
       "      <td>1.371885e-02</td>\n",
       "      <td>-1.815634e-01</td>\n",
       "      <td>-1.003134e-02</td>\n",
       "      <td>1.575839e-02</td>\n",
       "      <td>-7.535743e-02</td>\n",
       "      <td>-1.777300e-01</td>\n",
       "      <td>-2.476716e-03</td>\n",
       "    </tr>\n",
       "    <tr>\n",
       "      <th>75%</th>\n",
       "      <td>8.567502e-01</td>\n",
       "      <td>8.285904e-01</td>\n",
       "      <td>6.218205e-01</td>\n",
       "      <td>8.797552e-01</td>\n",
       "      <td>1.033195e+00</td>\n",
       "      <td>6.350516e-01</td>\n",
       "      <td>1.085492e+00</td>\n",
       "      <td>8.380894e-01</td>\n",
       "      <td>6.802548e-01</td>\n",
       "      <td>8.828069e-01</td>\n",
       "      <td>8.556979e-01</td>\n",
       "      <td>8.746462e-01</td>\n",
       "      <td>7.402540e-01</td>\n",
       "      <td>9.125322e-01</td>\n",
       "    </tr>\n",
       "    <tr>\n",
       "      <th>max</th>\n",
       "      <td>1.730217e+00</td>\n",
       "      <td>1.808967e+00</td>\n",
       "      <td>3.387264e+00</td>\n",
       "      <td>1.761250e+00</td>\n",
       "      <td>1.726742e+00</td>\n",
       "      <td>1.807673e+01</td>\n",
       "      <td>1.522713e+00</td>\n",
       "      <td>1.662460e+00</td>\n",
       "      <td>2.972036e+00</td>\n",
       "      <td>1.727071e+00</td>\n",
       "      <td>4.703368e+00</td>\n",
       "      <td>1.587149e+00</td>\n",
       "      <td>2.805718e+00</td>\n",
       "      <td>1.644539e+00</td>\n",
       "    </tr>\n",
       "  </tbody>\n",
       "</table>\n",
       "</div>"
      ],
      "text/plain": [
       "       battery_power   clock_speed  fc_megapixel    int_memory       m_depth  \\\n",
       "count   1.995000e+03  1.995000e+03  1.995000e+03  1.995000e+03  1.995000e+03   \n",
       "mean   -1.090745e-16  1.582694e-16 -4.273941e-17 -3.283366e-18 -2.971725e-17   \n",
       "std     1.000251e+00  1.000251e+00  1.000251e+00  1.000251e+00  1.000251e+00   \n",
       "min    -1.679377e+00 -1.254710e+00 -9.913549e-01 -1.654543e+00 -1.394222e+00   \n",
       "25%    -8.799334e-01 -1.009616e+00 -7.609013e-01 -8.832348e-01 -1.047448e+00   \n",
       "50%    -3.038194e-02 -2.923931e-02 -2.999940e-01 -1.739793e-03 -7.126678e-03   \n",
       "75%     8.567502e-01  8.285904e-01  6.218205e-01  8.797552e-01  1.033195e+00   \n",
       "max     1.730217e+00  1.808967e+00  3.387264e+00  1.761250e+00  1.726742e+00   \n",
       "\n",
       "          mobile_wt       n_cores  pc_megapixel     px_height      px_width  \\\n",
       "count  1.995000e+03  1.995000e+03  1.995000e+03  1.995000e+03  1.995000e+03   \n",
       "mean  -5.448162e-17  1.631666e-16  4.986265e-17 -1.111336e-16 -2.190395e-16   \n",
       "std    1.000251e+00  1.000251e+00  1.000251e+00  1.000251e+00  1.000251e+00   \n",
       "min   -1.351975e+00 -1.537835e+00 -1.635022e+00 -1.455654e+00 -1.737881e+00   \n",
       "25%   -7.117106e-01 -6.633928e-01 -8.106517e-01 -8.174790e-01 -8.727999e-01   \n",
       "50%   -5.212416e-03 -2.261716e-01  1.371885e-02 -1.815634e-01 -1.003134e-02   \n",
       "75%    6.350516e-01  1.085492e+00  8.380894e-01  6.802548e-01  8.828069e-01   \n",
       "max    1.807673e+01  1.522713e+00  1.662460e+00  2.972036e+00  1.727071e+00   \n",
       "\n",
       "                ram          sc_h          sc_w     talk_time  \n",
       "count  1.995000e+03  1.995000e+03  1.995000e+03  1.995000e+03  \n",
       "mean  -4.452022e-18  7.423747e-17  7.949642e-17 -5.453727e-17  \n",
       "std    1.000251e+00  1.000251e+00  1.000251e+00  1.000251e+00  \n",
       "min   -1.707896e+00 -1.737864e+00 -1.325210e+00 -1.649493e+00  \n",
       "25%   -8.405968e-01 -7.878601e-01 -8.662179e-01 -9.174857e-01  \n",
       "50%    1.575839e-02 -7.535743e-02 -1.777300e-01 -2.476716e-03  \n",
       "75%    8.556979e-01  8.746462e-01  7.402540e-01  9.125322e-01  \n",
       "max    4.703368e+00  1.587149e+00  2.805718e+00  1.644539e+00  "
      ]
     },
     "execution_count": 91,
     "metadata": {},
     "output_type": "execute_result"
    }
   ],
   "source": [
    "scaled_data.describe()"
   ]
  },
  {
   "cell_type": "code",
   "execution_count": 92,
   "metadata": {},
   "outputs": [
    {
     "data": {
      "text/plain": [
       "[Text(0, 0, 'battery_power'),\n",
       " Text(1, 0, 'clock_speed'),\n",
       " Text(2, 0, 'fc_megapixel'),\n",
       " Text(3, 0, 'int_memory'),\n",
       " Text(4, 0, 'm_depth'),\n",
       " Text(5, 0, 'mobile_wt'),\n",
       " Text(6, 0, 'n_cores'),\n",
       " Text(7, 0, 'pc_megapixel'),\n",
       " Text(8, 0, 'px_height'),\n",
       " Text(9, 0, 'px_width'),\n",
       " Text(10, 0, 'ram'),\n",
       " Text(11, 0, 'sc_h'),\n",
       " Text(12, 0, 'sc_w'),\n",
       " Text(13, 0, 'talk_time')]"
      ]
     },
     "execution_count": 92,
     "metadata": {},
     "output_type": "execute_result"
    },
    {
     "data": {
      "image/png": "[encoded data removed]",
      "text/plain": [
       "<Figure size 720x576 with 1 Axes>"
      ]
     },
     "metadata": {
      "needs_background": "light"
     },
     "output_type": "display_data"
    }
   ],
   "source": [
    "fig, ax = plt.subplots(figsize = (10, 8))\n",
    "\n",
    "bp = sns.boxplot(data = scaled_data)\n",
    "\n",
    "bp.set_xticklabels(bp.get_xticklabels(), rotation=90)"
   ]
  },
  {
   "cell_type": "code",
   "execution_count": 93,
   "metadata": {},
   "outputs": [],
   "source": [
    "from sklearn.preprocessing import RobustScaler\n",
    "\n",
    "robust_scaler = RobustScaler()\n",
    "\n",
    "robust_scaled_array = robust_scaler.fit_transform(numeric_data)"
   ]
  },
  {
   "cell_type": "code",
   "execution_count": 94,
   "metadata": {
    "scrolled": true
   },
   "outputs": [
    {
     "data": {
      "text/html": [
       "<div>\n",
       "<style scoped>\n",
       "    .dataframe tbody tr th:only-of-type {\n",
       "        vertical-align: middle;\n",
       "    }\n",
       "\n",
       "    .dataframe tbody tr th {\n",
       "        vertical-align: top;\n",
       "    }\n",
       "\n",
       "    .dataframe thead th {\n",
       "        text-align: right;\n",
       "    }\n",
       "</style>\n",
       "<table border=\"1\" class=\"dataframe\">\n",
       "  <thead>\n",
       "    <tr style=\"text-align: right;\">\n",
       "      <th></th>\n",
       "      <th>battery_power</th>\n",
       "      <th>clock_speed</th>\n",
       "      <th>fc_megapixel</th>\n",
       "      <th>int_memory</th>\n",
       "      <th>m_depth</th>\n",
       "      <th>mobile_wt</th>\n",
       "      <th>n_cores</th>\n",
       "      <th>pc_megapixel</th>\n",
       "      <th>px_height</th>\n",
       "      <th>px_width</th>\n",
       "      <th>ram</th>\n",
       "      <th>sc_h</th>\n",
       "      <th>sc_w</th>\n",
       "      <th>talk_time</th>\n",
       "    </tr>\n",
       "  </thead>\n",
       "  <tbody>\n",
       "    <tr>\n",
       "      <th>0</th>\n",
       "      <td>-0.502295</td>\n",
       "      <td>0.466667</td>\n",
       "      <td>-0.333333</td>\n",
       "      <td>-0.78125</td>\n",
       "      <td>0.166667</td>\n",
       "      <td>0.770492</td>\n",
       "      <td>-0.50</td>\n",
       "      <td>-0.8</td>\n",
       "      <td>-0.820513</td>\n",
       "      <td>-0.646904</td>\n",
       "      <td>0.216667</td>\n",
       "      <td>-0.428571</td>\n",
       "      <td>0.285714</td>\n",
       "      <td>0.8</td>\n",
       "    </tr>\n",
       "    <tr>\n",
       "      <th>1</th>\n",
       "      <td>-0.267541</td>\n",
       "      <td>-0.666667</td>\n",
       "      <td>-0.500000</td>\n",
       "      <td>0.65625</td>\n",
       "      <td>0.333333</td>\n",
       "      <td>-0.081967</td>\n",
       "      <td>-0.25</td>\n",
       "      <td>-0.4</td>\n",
       "      <td>0.514329</td>\n",
       "      <td>0.976285</td>\n",
       "      <td>0.245699</td>\n",
       "      <td>0.714286</td>\n",
       "      <td>-0.285714</td>\n",
       "      <td>-0.4</td>\n",
       "    </tr>\n",
       "    <tr>\n",
       "      <th>2</th>\n",
       "      <td>-0.868197</td>\n",
       "      <td>-0.666667</td>\n",
       "      <td>-0.166667</td>\n",
       "      <td>0.28125</td>\n",
       "      <td>0.666667</td>\n",
       "      <td>0.000000</td>\n",
       "      <td>0.25</td>\n",
       "      <td>-0.4</td>\n",
       "      <td>1.054299</td>\n",
       "      <td>0.617918</td>\n",
       "      <td>0.245699</td>\n",
       "      <td>-0.142857</td>\n",
       "      <td>-0.428571</td>\n",
       "      <td>-0.2</td>\n",
       "    </tr>\n",
       "    <tr>\n",
       "      <th>3</th>\n",
       "      <td>-0.800000</td>\n",
       "      <td>0.666667</td>\n",
       "      <td>-0.500000</td>\n",
       "      <td>-0.68750</td>\n",
       "      <td>0.500000</td>\n",
       "      <td>-0.163934</td>\n",
       "      <td>0.50</td>\n",
       "      <td>-0.1</td>\n",
       "      <td>0.983409</td>\n",
       "      <td>0.710145</td>\n",
       "      <td>0.334946</td>\n",
       "      <td>0.571429</td>\n",
       "      <td>0.428571</td>\n",
       "      <td>0.0</td>\n",
       "    </tr>\n",
       "    <tr>\n",
       "      <th>4</th>\n",
       "      <td>0.831475</td>\n",
       "      <td>-0.666667</td>\n",
       "      <td>0.000000</td>\n",
       "      <td>-0.31250</td>\n",
       "      <td>0.333333</td>\n",
       "      <td>0.377049</td>\n",
       "      <td>-0.75</td>\n",
       "      <td>-0.3</td>\n",
       "      <td>0.663650</td>\n",
       "      <td>0.536232</td>\n",
       "      <td>-0.580108</td>\n",
       "      <td>0.714286</td>\n",
       "      <td>-0.571429</td>\n",
       "      <td>-0.1</td>\n",
       "    </tr>\n",
       "  </tbody>\n",
       "</table>\n",
       "</div>"
      ],
      "text/plain": [
       "   battery_power  clock_speed  fc_megapixel  int_memory   m_depth  mobile_wt  \\\n",
       "0      -0.502295     0.466667     -0.333333    -0.78125  0.166667   0.770492   \n",
       "1      -0.267541    -0.666667     -0.500000     0.65625  0.333333  -0.081967   \n",
       "2      -0.868197    -0.666667     -0.166667     0.28125  0.666667   0.000000   \n",
       "3      -0.800000     0.666667     -0.500000    -0.68750  0.500000  -0.163934   \n",
       "4       0.831475    -0.666667      0.000000    -0.31250  0.333333   0.377049   \n",
       "\n",
       "   n_cores  pc_megapixel  px_height  px_width       ram      sc_h      sc_w  \\\n",
       "0    -0.50          -0.8  -0.820513 -0.646904  0.216667 -0.428571  0.285714   \n",
       "1    -0.25          -0.4   0.514329  0.976285  0.245699  0.714286 -0.285714   \n",
       "2     0.25          -0.4   1.054299  0.617918  0.245699 -0.142857 -0.428571   \n",
       "3     0.50          -0.1   0.983409  0.710145  0.334946  0.571429  0.428571   \n",
       "4    -0.75          -0.3   0.663650  0.536232 -0.580108  0.714286 -0.571429   \n",
       "\n",
       "   talk_time  \n",
       "0        0.8  \n",
       "1       -0.4  \n",
       "2       -0.2  \n",
       "3        0.0  \n",
       "4       -0.1  "
      ]
     },
     "execution_count": 94,
     "metadata": {},
     "output_type": "execute_result"
    }
   ],
   "source": [
    "robust_scaled_data = pd.DataFrame(robust_scaled_array, columns = numeric_data.columns)\n",
    "\n",
    "robust_scaled_data.head()"
   ]
  },
  {
   "cell_type": "code",
   "execution_count": 95,
   "metadata": {},
   "outputs": [
    {
     "data": {
      "text/html": [
       "<div>\n",
       "<style scoped>\n",
       "    .dataframe tbody tr th:only-of-type {\n",
       "        vertical-align: middle;\n",
       "    }\n",
       "\n",
       "    .dataframe tbody tr th {\n",
       "        vertical-align: top;\n",
       "    }\n",
       "\n",
       "    .dataframe thead th {\n",
       "        text-align: right;\n",
       "    }\n",
       "</style>\n",
       "<table border=\"1\" class=\"dataframe\">\n",
       "  <thead>\n",
       "    <tr style=\"text-align: right;\">\n",
       "      <th></th>\n",
       "      <th>battery_power</th>\n",
       "      <th>clock_speed</th>\n",
       "      <th>fc_megapixel</th>\n",
       "      <th>int_memory</th>\n",
       "      <th>m_depth</th>\n",
       "      <th>mobile_wt</th>\n",
       "      <th>n_cores</th>\n",
       "      <th>pc_megapixel</th>\n",
       "      <th>px_height</th>\n",
       "      <th>px_width</th>\n",
       "      <th>ram</th>\n",
       "      <th>sc_h</th>\n",
       "      <th>sc_w</th>\n",
       "      <th>talk_time</th>\n",
       "    </tr>\n",
       "  </thead>\n",
       "  <tbody>\n",
       "    <tr>\n",
       "      <th>count</th>\n",
       "      <td>1995.000000</td>\n",
       "      <td>1995.000000</td>\n",
       "      <td>1995.000000</td>\n",
       "      <td>1995.000000</td>\n",
       "      <td>1995.000000</td>\n",
       "      <td>1995.000000</td>\n",
       "      <td>1995.000000</td>\n",
       "      <td>1995.000000</td>\n",
       "      <td>1995.000000</td>\n",
       "      <td>1995.000000</td>\n",
       "      <td>1995.000000</td>\n",
       "      <td>1995.000000</td>\n",
       "      <td>1995.000000</td>\n",
       "      <td>1995.000000</td>\n",
       "    </tr>\n",
       "    <tr>\n",
       "      <th>mean</th>\n",
       "      <td>0.017494</td>\n",
       "      <td>0.015906</td>\n",
       "      <td>0.216959</td>\n",
       "      <td>0.000987</td>\n",
       "      <td>0.003425</td>\n",
       "      <td>0.003870</td>\n",
       "      <td>0.129323</td>\n",
       "      <td>-0.008321</td>\n",
       "      <td>0.121225</td>\n",
       "      <td>0.005714</td>\n",
       "      <td>-0.009290</td>\n",
       "      <td>0.045328</td>\n",
       "      <td>0.110634</td>\n",
       "      <td>0.001353</td>\n",
       "    </tr>\n",
       "    <tr>\n",
       "      <th>std</th>\n",
       "      <td>0.575955</td>\n",
       "      <td>0.544145</td>\n",
       "      <td>0.723393</td>\n",
       "      <td>0.567360</td>\n",
       "      <td>0.480741</td>\n",
       "      <td>0.742708</td>\n",
       "      <td>0.571936</td>\n",
       "      <td>0.606675</td>\n",
       "      <td>0.667843</td>\n",
       "      <td>0.569746</td>\n",
       "      <td>0.589668</td>\n",
       "      <td>0.601652</td>\n",
       "      <td>0.622638</td>\n",
       "      <td>0.546580</td>\n",
       "    </tr>\n",
       "    <tr>\n",
       "      <th>min</th>\n",
       "      <td>-0.949508</td>\n",
       "      <td>-0.666667</td>\n",
       "      <td>-0.500000</td>\n",
       "      <td>-0.937500</td>\n",
       "      <td>-0.666667</td>\n",
       "      <td>-1.000000</td>\n",
       "      <td>-0.750000</td>\n",
       "      <td>-1.000000</td>\n",
       "      <td>-0.850679</td>\n",
       "      <td>-0.984190</td>\n",
       "      <td>-1.016129</td>\n",
       "      <td>-1.000000</td>\n",
       "      <td>-0.714286</td>\n",
       "      <td>-0.900000</td>\n",
       "    </tr>\n",
       "    <tr>\n",
       "      <th>25%</th>\n",
       "      <td>-0.489180</td>\n",
       "      <td>-0.533333</td>\n",
       "      <td>-0.333333</td>\n",
       "      <td>-0.500000</td>\n",
       "      <td>-0.500000</td>\n",
       "      <td>-0.524590</td>\n",
       "      <td>-0.250000</td>\n",
       "      <td>-0.500000</td>\n",
       "      <td>-0.424585</td>\n",
       "      <td>-0.491436</td>\n",
       "      <td>-0.504839</td>\n",
       "      <td>-0.428571</td>\n",
       "      <td>-0.428571</td>\n",
       "      <td>-0.500000</td>\n",
       "    </tr>\n",
       "    <tr>\n",
       "      <th>50%</th>\n",
       "      <td>0.000000</td>\n",
       "      <td>0.000000</td>\n",
       "      <td>0.000000</td>\n",
       "      <td>0.000000</td>\n",
       "      <td>0.000000</td>\n",
       "      <td>0.000000</td>\n",
       "      <td>0.000000</td>\n",
       "      <td>0.000000</td>\n",
       "      <td>0.000000</td>\n",
       "      <td>0.000000</td>\n",
       "      <td>0.000000</td>\n",
       "      <td>0.000000</td>\n",
       "      <td>0.000000</td>\n",
       "      <td>0.000000</td>\n",
       "    </tr>\n",
       "    <tr>\n",
       "      <th>75%</th>\n",
       "      <td>0.510820</td>\n",
       "      <td>0.466667</td>\n",
       "      <td>0.666667</td>\n",
       "      <td>0.500000</td>\n",
       "      <td>0.500000</td>\n",
       "      <td>0.475410</td>\n",
       "      <td>0.750000</td>\n",
       "      <td>0.500000</td>\n",
       "      <td>0.575415</td>\n",
       "      <td>0.508564</td>\n",
       "      <td>0.495161</td>\n",
       "      <td>0.571429</td>\n",
       "      <td>0.571429</td>\n",
       "      <td>0.500000</td>\n",
       "    </tr>\n",
       "    <tr>\n",
       "      <th>max</th>\n",
       "      <td>1.013770</td>\n",
       "      <td>1.000000</td>\n",
       "      <td>2.666667</td>\n",
       "      <td>1.000000</td>\n",
       "      <td>0.833333</td>\n",
       "      <td>13.426230</td>\n",
       "      <td>1.000000</td>\n",
       "      <td>1.000000</td>\n",
       "      <td>2.105581</td>\n",
       "      <td>0.989460</td>\n",
       "      <td>2.763441</td>\n",
       "      <td>1.000000</td>\n",
       "      <td>1.857143</td>\n",
       "      <td>0.900000</td>\n",
       "    </tr>\n",
       "  </tbody>\n",
       "</table>\n",
       "</div>"
      ],
      "text/plain": [
       "       battery_power  clock_speed  fc_megapixel   int_memory      m_depth  \\\n",
       "count    1995.000000  1995.000000   1995.000000  1995.000000  1995.000000   \n",
       "mean        0.017494     0.015906      0.216959     0.000987     0.003425   \n",
       "std         0.575955     0.544145      0.723393     0.567360     0.480741   \n",
       "min        -0.949508    -0.666667     -0.500000    -0.937500    -0.666667   \n",
       "25%        -0.489180    -0.533333     -0.333333    -0.500000    -0.500000   \n",
       "50%         0.000000     0.000000      0.000000     0.000000     0.000000   \n",
       "75%         0.510820     0.466667      0.666667     0.500000     0.500000   \n",
       "max         1.013770     1.000000      2.666667     1.000000     0.833333   \n",
       "\n",
       "         mobile_wt      n_cores  pc_megapixel    px_height     px_width  \\\n",
       "count  1995.000000  1995.000000   1995.000000  1995.000000  1995.000000   \n",
       "mean      0.003870     0.129323     -0.008321     0.121225     0.005714   \n",
       "std       0.742708     0.571936      0.606675     0.667843     0.569746   \n",
       "min      -1.000000    -0.750000     -1.000000    -0.850679    -0.984190   \n",
       "25%      -0.524590    -0.250000     -0.500000    -0.424585    -0.491436   \n",
       "50%       0.000000     0.000000      0.000000     0.000000     0.000000   \n",
       "75%       0.475410     0.750000      0.500000     0.575415     0.508564   \n",
       "max      13.426230     1.000000      1.000000     2.105581     0.989460   \n",
       "\n",
       "               ram         sc_h         sc_w    talk_time  \n",
       "count  1995.000000  1995.000000  1995.000000  1995.000000  \n",
       "mean     -0.009290     0.045328     0.110634     0.001353  \n",
       "std       0.589668     0.601652     0.622638     0.546580  \n",
       "min      -1.016129    -1.000000    -0.714286    -0.900000  \n",
       "25%      -0.504839    -0.428571    -0.428571    -0.500000  \n",
       "50%       0.000000     0.000000     0.000000     0.000000  \n",
       "75%       0.495161     0.571429     0.571429     0.500000  \n",
       "max       2.763441     1.000000     1.857143     0.900000  "
      ]
     },
     "execution_count": 95,
     "metadata": {},
     "output_type": "execute_result"
    }
   ],
   "source": [
    "robust_scaled_data.describe()"
   ]
  },
  {
   "cell_type": "code",
   "execution_count": 96,
   "metadata": {},
   "outputs": [
    {
     "data": {
      "text/plain": [
       "[Text(0, 0, 'battery_power'),\n",
       " Text(1, 0, 'clock_speed'),\n",
       " Text(2, 0, 'fc_megapixel'),\n",
       " Text(3, 0, 'int_memory'),\n",
       " Text(4, 0, 'm_depth'),\n",
       " Text(5, 0, 'mobile_wt'),\n",
       " Text(6, 0, 'n_cores'),\n",
       " Text(7, 0, 'pc_megapixel'),\n",
       " Text(8, 0, 'px_height'),\n",
       " Text(9, 0, 'px_width'),\n",
       " Text(10, 0, 'ram'),\n",
       " Text(11, 0, 'sc_h'),\n",
       " Text(12, 0, 'sc_w'),\n",
       " Text(13, 0, 'talk_time')]"
      ]
     },
     "execution_count": 96,
     "metadata": {},
     "output_type": "execute_result"
    },
    {
     "data": {
      "image/png": "[encoded data removed]",
      "text/plain": [
       "<Figure size 720x576 with 1 Axes>"
      ]
     },
     "metadata": {
      "needs_background": "light"
     },
     "output_type": "display_data"
    }
   ],
   "source": [
    "fig, ax = plt.subplots(figsize = (10, 8))\n",
    "\n",
    "bp = sns.boxplot(data = robust_scaled_data)\n",
    "\n",
    "bp.set_xticklabels(bp.get_xticklabels(), rotation=90)"
   ]
  },
  {
   "cell_type": "markdown",
   "metadata": {},
   "source": [
    "## Remove outliers"
   ]
  },
  {
   "cell_type": "code",
   "execution_count": 97,
   "metadata": {},
   "outputs": [
    {
     "name": "stdout",
     "output_type": "stream",
     "text": [
      "battery_power     762.5\n",
      "clock_speed         1.5\n",
      "fc_megapixel        6.0\n",
      "int_memory         32.0\n",
      "m_depth             0.6\n",
      "mobile_wt          61.0\n",
      "n_cores             4.0\n",
      "pc_megapixel       10.0\n",
      "px_height         663.0\n",
      "px_width          759.0\n",
      "ram              1860.0\n",
      "sc_h                7.0\n",
      "sc_w                7.0\n",
      "talk_time          10.0\n",
      "dtype: float64\n"
     ]
    }
   ],
   "source": [
    "Q1 = numeric_data.quantile(0.25)\n",
    "Q3 = numeric_data.quantile(0.75)\n",
    "\n",
    "IQR = Q3 - Q1\n",
    "\n",
    "print(IQR)"
   ]
  },
  {
   "cell_type": "code",
   "execution_count": 98,
   "metadata": {},
   "outputs": [
    {
     "data": {
      "text/plain": [
       "(1971, 14)"
      ]
     },
     "execution_count": 98,
     "metadata": {},
     "output_type": "execute_result"
    }
   ],
   "source": [
    "outliers_removed_data = numeric_data[~ ((numeric_data < (Q1 - 1.5 * IQR)) \\\n",
    "                                     | (numeric_data > (Q3 + 1.5 * IQR))).any(axis=1)] # tilde removes outliers\n",
    "\n",
    "outliers_removed_data.shape"
   ]
  },
  {
   "cell_type": "code",
   "execution_count": 99,
   "metadata": {},
   "outputs": [
    {
     "data": {
      "text/plain": [
       "[Text(0, 0, 'battery_power'),\n",
       " Text(1, 0, 'clock_speed'),\n",
       " Text(2, 0, 'fc_megapixel'),\n",
       " Text(3, 0, 'int_memory'),\n",
       " Text(4, 0, 'm_depth'),\n",
       " Text(5, 0, 'mobile_wt'),\n",
       " Text(6, 0, 'n_cores'),\n",
       " Text(7, 0, 'pc_megapixel'),\n",
       " Text(8, 0, 'px_height'),\n",
       " Text(9, 0, 'px_width'),\n",
       " Text(10, 0, 'ram'),\n",
       " Text(11, 0, 'sc_h'),\n",
       " Text(12, 0, 'sc_w'),\n",
       " Text(13, 0, 'talk_time')]"
      ]
     },
     "execution_count": 99,
     "metadata": {},
     "output_type": "execute_result"
    },
    {
     "data": {
      "image/png": "[encoded data removed]",
      "text/plain": [
       "<Figure size 720x576 with 1 Axes>"
      ]
     },
     "metadata": {
      "needs_background": "light"
     },
     "output_type": "display_data"
    }
   ],
   "source": [
    "fig, ax = plt.subplots(figsize = (10, 8))\n",
    "\n",
    "bp = sns.boxplot(data = outliers_removed_data)\n",
    "\n",
    "bp.set_xticklabels(bp.get_xticklabels(), rotation=90)"
   ]
  },
  {
   "cell_type": "code",
   "execution_count": 100,
   "metadata": {},
   "outputs": [],
   "source": [
    "from sklearn.model_selection import train_test_split"
   ]
  },
  {
   "cell_type": "code",
   "execution_count": 101,
   "metadata": {},
   "outputs": [],
   "source": [
    "scaled_data = scaled_data.reset_index()"
   ]
  },
  {
   "cell_type": "code",
   "execution_count": 102,
   "metadata": {},
   "outputs": [],
   "source": [
    "categorical_data = categorical_data.reset_index()"
   ]
  },
  {
   "cell_type": "code",
   "execution_count": 103,
   "metadata": {},
   "outputs": [
    {
     "data": {
      "text/html": [
       "<div>\n",
       "<style scoped>\n",
       "    .dataframe tbody tr th:only-of-type {\n",
       "        vertical-align: middle;\n",
       "    }\n",
       "\n",
       "    .dataframe tbody tr th {\n",
       "        vertical-align: top;\n",
       "    }\n",
       "\n",
       "    .dataframe thead th {\n",
       "        text-align: right;\n",
       "    }\n",
       "</style>\n",
       "<table border=\"1\" class=\"dataframe\">\n",
       "  <thead>\n",
       "    <tr style=\"text-align: right;\">\n",
       "      <th></th>\n",
       "      <th>index</th>\n",
       "      <th>battery_power</th>\n",
       "      <th>clock_speed</th>\n",
       "      <th>fc_megapixel</th>\n",
       "      <th>int_memory</th>\n",
       "      <th>m_depth</th>\n",
       "      <th>mobile_wt</th>\n",
       "      <th>n_cores</th>\n",
       "      <th>pc_megapixel</th>\n",
       "      <th>px_height</th>\n",
       "      <th>...</th>\n",
       "      <th>sc_w</th>\n",
       "      <th>talk_time</th>\n",
       "      <th>index</th>\n",
       "      <th>bluetooth</th>\n",
       "      <th>dual_sim</th>\n",
       "      <th>four_g</th>\n",
       "      <th>three_g</th>\n",
       "      <th>touch_screen</th>\n",
       "      <th>wifi</th>\n",
       "      <th>price_range</th>\n",
       "    </tr>\n",
       "  </thead>\n",
       "  <tbody>\n",
       "    <tr>\n",
       "      <th>0</th>\n",
       "      <td>0</td>\n",
       "      <td>-0.902710</td>\n",
       "      <td>0.828590</td>\n",
       "      <td>-0.760901</td>\n",
       "      <td>-1.379076</td>\n",
       "      <td>0.339647</td>\n",
       "      <td>1.032457</td>\n",
       "      <td>-1.100614</td>\n",
       "      <td>-1.305274</td>\n",
       "      <td>-1.410473</td>\n",
       "      <td>...</td>\n",
       "      <td>0.281262</td>\n",
       "      <td>1.461538</td>\n",
       "      <td>0</td>\n",
       "      <td>0</td>\n",
       "      <td>0</td>\n",
       "      <td>0</td>\n",
       "      <td>0</td>\n",
       "      <td>0</td>\n",
       "      <td>1</td>\n",
       "      <td>1</td>\n",
       "    </tr>\n",
       "    <tr>\n",
       "      <th>1</th>\n",
       "      <td>1</td>\n",
       "      <td>-0.495016</td>\n",
       "      <td>-1.254710</td>\n",
       "      <td>-0.991355</td>\n",
       "      <td>1.155222</td>\n",
       "      <td>0.686421</td>\n",
       "      <td>-0.115603</td>\n",
       "      <td>-0.663393</td>\n",
       "      <td>-0.645778</td>\n",
       "      <td>0.588764</td>\n",
       "      <td>...</td>\n",
       "      <td>-0.636722</td>\n",
       "      <td>-0.734484</td>\n",
       "      <td>1</td>\n",
       "      <td>1</td>\n",
       "      <td>1</td>\n",
       "      <td>1</td>\n",
       "      <td>1</td>\n",
       "      <td>1</td>\n",
       "      <td>0</td>\n",
       "      <td>2</td>\n",
       "    </tr>\n",
       "    <tr>\n",
       "      <th>2</th>\n",
       "      <td>2</td>\n",
       "      <td>-1.538165</td>\n",
       "      <td>-1.254710</td>\n",
       "      <td>-0.530448</td>\n",
       "      <td>0.494101</td>\n",
       "      <td>1.379968</td>\n",
       "      <td>-0.005212</td>\n",
       "      <td>0.211050</td>\n",
       "      <td>-0.645778</td>\n",
       "      <td>1.397495</td>\n",
       "      <td>...</td>\n",
       "      <td>-0.866218</td>\n",
       "      <td>-0.368480</td>\n",
       "      <td>2</td>\n",
       "      <td>1</td>\n",
       "      <td>1</td>\n",
       "      <td>1</td>\n",
       "      <td>1</td>\n",
       "      <td>1</td>\n",
       "      <td>0</td>\n",
       "      <td>2</td>\n",
       "    </tr>\n",
       "    <tr>\n",
       "      <th>3</th>\n",
       "      <td>3</td>\n",
       "      <td>-1.419729</td>\n",
       "      <td>1.196232</td>\n",
       "      <td>-0.991355</td>\n",
       "      <td>-1.213795</td>\n",
       "      <td>1.033195</td>\n",
       "      <td>-0.225993</td>\n",
       "      <td>0.648271</td>\n",
       "      <td>-0.151155</td>\n",
       "      <td>1.291321</td>\n",
       "      <td>...</td>\n",
       "      <td>0.510758</td>\n",
       "      <td>-0.002477</td>\n",
       "      <td>3</td>\n",
       "      <td>1</td>\n",
       "      <td>0</td>\n",
       "      <td>0</td>\n",
       "      <td>1</td>\n",
       "      <td>0</td>\n",
       "      <td>0</td>\n",
       "      <td>2</td>\n",
       "    </tr>\n",
       "    <tr>\n",
       "      <th>4</th>\n",
       "      <td>4</td>\n",
       "      <td>1.413628</td>\n",
       "      <td>-1.254710</td>\n",
       "      <td>-0.299994</td>\n",
       "      <td>-0.552674</td>\n",
       "      <td>0.686421</td>\n",
       "      <td>0.502583</td>\n",
       "      <td>-1.537835</td>\n",
       "      <td>-0.480903</td>\n",
       "      <td>0.812408</td>\n",
       "      <td>...</td>\n",
       "      <td>-1.095714</td>\n",
       "      <td>-0.185479</td>\n",
       "      <td>5</td>\n",
       "      <td>0</td>\n",
       "      <td>1</td>\n",
       "      <td>0</td>\n",
       "      <td>1</td>\n",
       "      <td>0</td>\n",
       "      <td>0</td>\n",
       "      <td>1</td>\n",
       "    </tr>\n",
       "  </tbody>\n",
       "</table>\n",
       "<p>5 rows × 23 columns</p>\n",
       "</div>"
      ],
      "text/plain": [
       "   index  battery_power  clock_speed  fc_megapixel  int_memory   m_depth  \\\n",
       "0      0      -0.902710     0.828590     -0.760901   -1.379076  0.339647   \n",
       "1      1      -0.495016    -1.254710     -0.991355    1.155222  0.686421   \n",
       "2      2      -1.538165    -1.254710     -0.530448    0.494101  1.379968   \n",
       "3      3      -1.419729     1.196232     -0.991355   -1.213795  1.033195   \n",
       "4      4       1.413628    -1.254710     -0.299994   -0.552674  0.686421   \n",
       "\n",
       "   mobile_wt   n_cores  pc_megapixel  px_height  ...      sc_w  talk_time  \\\n",
       "0   1.032457 -1.100614     -1.305274  -1.410473  ...  0.281262   1.461538   \n",
       "1  -0.115603 -0.663393     -0.645778   0.588764  ... -0.636722  -0.734484   \n",
       "2  -0.005212  0.211050     -0.645778   1.397495  ... -0.866218  -0.368480   \n",
       "3  -0.225993  0.648271     -0.151155   1.291321  ...  0.510758  -0.002477   \n",
       "4   0.502583 -1.537835     -0.480903   0.812408  ... -1.095714  -0.185479   \n",
       "\n",
       "   index  bluetooth  dual_sim  four_g  three_g  touch_screen  wifi  \\\n",
       "0      0          0         0       0        0             0     1   \n",
       "1      1          1         1       1        1             1     0   \n",
       "2      2          1         1       1        1             1     0   \n",
       "3      3          1         0       0        1             0     0   \n",
       "4      5          0         1       0        1             0     0   \n",
       "\n",
       "   price_range  \n",
       "0            1  \n",
       "1            2  \n",
       "2            2  \n",
       "3            2  \n",
       "4            1  \n",
       "\n",
       "[5 rows x 23 columns]"
      ]
     },
     "execution_count": 103,
     "metadata": {},
     "output_type": "execute_result"
    }
   ],
   "source": [
    "final_df = pd.concat([scaled_data, categorical_data], axis=1)\n",
    "\n",
    "final_df.head()"
   ]
  },
  {
   "cell_type": "code",
   "execution_count": 104,
   "metadata": {},
   "outputs": [
    {
     "data": {
      "text/plain": [
       "index            0\n",
       "battery_power    0\n",
       "clock_speed      0\n",
       "fc_megapixel     0\n",
       "int_memory       0\n",
       "m_depth          0\n",
       "mobile_wt        0\n",
       "n_cores          0\n",
       "pc_megapixel     0\n",
       "px_height        0\n",
       "px_width         0\n",
       "ram              0\n",
       "sc_h             0\n",
       "sc_w             0\n",
       "talk_time        0\n",
       "index            0\n",
       "bluetooth        0\n",
       "dual_sim         0\n",
       "four_g           0\n",
       "three_g          0\n",
       "touch_screen     0\n",
       "wifi             0\n",
       "price_range      0\n",
       "dtype: int64"
      ]
     },
     "execution_count": 104,
     "metadata": {},
     "output_type": "execute_result"
    }
   ],
   "source": [
    "final_df.isnull().sum()"
   ]
  },
  {
   "cell_type": "code",
   "execution_count": 106,
   "metadata": {},
   "outputs": [],
   "source": [
    "X = final_df.drop('price_range', axis=1)\n",
    "\n",
    "y = final_df['price_range']"
   ]
  },
  {
   "cell_type": "code",
   "execution_count": 107,
   "metadata": {},
   "outputs": [],
   "source": [
    "X_train, X_test, y_train, y_test = train_test_split(X, y,\n",
    "                                                    test_size = 0.20,\n",
    "                                                    random_state = 101)"
   ]
  },
  {
   "cell_type": "code",
   "execution_count": 108,
   "metadata": {},
   "outputs": [
    {
     "data": {
      "text/plain": [
       "((1596, 22), (399, 22))"
      ]
     },
     "execution_count": 108,
     "metadata": {},
     "output_type": "execute_result"
    }
   ],
   "source": [
    "X_train.shape, X_test.shape"
   ]
  },
  {
   "cell_type": "markdown",
   "metadata": {},
   "source": [
    "solver is optimisation algo  \n",
    "    multinomial means more that 2 categories  \n",
    "    maximum 10,000 iterations  "
   ]
  },
  {
   "cell_type": "code",
   "execution_count": 109,
   "metadata": {},
   "outputs": [],
   "source": [
    "from sklearn.linear_model import LogisticRegression\n",
    "\n",
    "logistic_model = LogisticRegression(solver='lbfgs',\n",
    "                                    multi_class='multinomial',\n",
    "                                    max_iter=10000)"
   ]
  },
  {
   "cell_type": "code",
   "execution_count": 110,
   "metadata": {},
   "outputs": [
    {
     "data": {
      "text/plain": [
       "LogisticRegression(max_iter=10000, multi_class='multinomial')"
      ]
     },
     "execution_count": 110,
     "metadata": {},
     "output_type": "execute_result"
    }
   ],
   "source": [
    "logistic_model.fit(X_train, y_train)"
   ]
  },
  {
   "cell_type": "code",
   "execution_count": 111,
   "metadata": {},
   "outputs": [
    {
     "data": {
      "text/plain": [
       "0.9298245614035088"
      ]
     },
     "execution_count": 111,
     "metadata": {},
     "output_type": "execute_result"
    }
   ],
   "source": [
    "logistic_model.score(X_test, y_test)"
   ]
  },
  {
   "cell_type": "code",
   "execution_count": null,
   "metadata": {},
   "outputs": [],
   "source": []
  },
  {
   "cell_type": "code",
   "execution_count": null,
   "metadata": {},
   "outputs": [],
   "source": []
  }
 ],
 "metadata": {
  "kernelspec": {
   "display_name": "Python 3",
   "language": "python",
   "name": "python3"
  },
  "language_info": {
   "codemirror_mode": {
    "name": "ipython",
    "version": 3
   },
   "file_extension": ".py",
   "mimetype": "text/x-python",
   "name": "python",
   "nbconvert_exporter": "python",
   "pygments_lexer": "ipython3",
   "version": "3.8.5"
  }
 },
 "nbformat": 4,
 "nbformat_minor": 2
}
